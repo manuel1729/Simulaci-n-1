{
  "nbformat": 4,
  "nbformat_minor": 0,
  "metadata": {
    "colab": {
      "provenance": [],
      "authorship_tag": "ABX9TyOmTQQP3EDmgIZzEfYqTzKt",
      "include_colab_link": true
    },
    "kernelspec": {
      "name": "python3",
      "display_name": "Python 3"
    },
    "language_info": {
      "name": "python"
    }
  },
  "cells": [
    {
      "cell_type": "markdown",
      "metadata": {
        "id": "view-in-github",
        "colab_type": "text"
      },
      "source": [
        "<a href=\"https://colab.research.google.com/github/manuel1729/Simulaci-n-1/blob/main/Tarea_3_Simulacion.ipynb\" target=\"_parent\"><img src=\"https://colab.research.google.com/assets/colab-badge.svg\" alt=\"Open In Colab\"/></a>"
      ]
    },
    {
      "cell_type": "markdown",
      "source": [
        "**PRUEBA DE KOLGOGOROV-SMIRNOV**\n",
        "\n",
        "Gómez Cruz Manuel\n",
        "\n",
        " Es una prueba estadística de forma que se usa para comparar dos muestras o verificar si una muestra sigue una distribución específica.\n",
        "\n",
        "H0: U(0,1)\n",
        "H0: no U(0,1)\n",
        "\n",
        "**Paso 1:** Ordene de menor a mayor los números aleatorios.\n",
        "\n",
        "**Paso 2:**Calcule los valores D+,D- y D.\n",
        "D+=max{1<i<n}|(i/n-x_i)|, D-=max{1<i<n}|(x_i-(i-1)/n)|, D= max{D+D-}\n",
        "\n",
        "**Paso 3:**Determinar el valor crítico d_alpha,n. En la tabla de valores críticos de Kolmogorov-Smirnov para un nivel de confianza y un tamaño n:\n",
        "Si D>d_alpha,n se rechaza H0\n",
        "\n",
        "\n",
        "\n"
      ],
      "metadata": {
        "id": "0MEX71ijbM5T"
      }
    },
    {
      "cell_type": "code",
      "execution_count": null,
      "metadata": {
        "id": "th0fCK777eCh",
        "colab": {
          "base_uri": "https://localhost:8080/"
        },
        "outputId": "8d0ab570-bc18-43dd-f081-507595f2ce61"
      },
      "outputs": [
        {
          "output_type": "stream",
          "name": "stdout",
          "text": [
            "     i    x_i   i/n  i/n - x_i  x_i - (i-1)/n\n",
            "0    1  0.007  0.04      0.033          0.007\n",
            "1    2  0.048  0.08      0.032          0.008\n",
            "2    3  0.086  0.12      0.034          0.006\n",
            "3    4  0.157  0.16      0.003          0.037\n",
            "4    5  0.166  0.20      0.034          0.006\n",
            "5    6  0.178  0.24      0.062         -0.022\n",
            "6    7  0.199  0.28      0.081         -0.041\n",
            "7    8  0.298  0.32      0.022          0.018\n",
            "8    9  0.362  0.36     -0.002          0.042\n",
            "9   10  0.368  0.40      0.032          0.008\n",
            "10  11  0.401  0.44      0.039          0.001\n",
            "11  12  0.411  0.48      0.069         -0.029\n",
            "12  13  0.437  0.52      0.083         -0.043\n",
            "13  14  0.478  0.56      0.082         -0.042\n",
            "14  15  0.533  0.60      0.067         -0.027\n",
            "15  16  0.545  0.64      0.095         -0.055\n",
            "16  17  0.551  0.68      0.129         -0.089\n",
            "17  18  0.591  0.72      0.129         -0.089\n",
            "18  19  0.594  0.76      0.166         -0.126\n",
            "19  20  0.631  0.80      0.169         -0.129\n",
            "20  21  0.772  0.84      0.068         -0.028\n",
            "21  22  0.787  0.88      0.093         -0.053\n",
            "22  23  0.926  0.92     -0.006          0.046\n",
            "23  24  0.932  0.96      0.028          0.012\n",
            "24  25  0.951  1.00      0.049         -0.009\n",
            "Estadístico D: 0.16900000000000004\n",
            "Critical Value (alpha=0.05): 0.2640\n",
            "No se rechaza H0.\n"
          ]
        }
      ],
      "source": [
        "#Gómez Cruz Manuel\n",
        "import numpy as np\n",
        "import pandas as pd\n",
        "from scipy.stats import ksone\n",
        "\n",
        "def kolmogorov_smirnov_test(datos):\n",
        "    # Ordenar los datos\n",
        "    lista = np.sort(datos)\n",
        "    n = len(lista)\n",
        "\n",
        "    # Calcular columnas\n",
        "    i_val = np.arange(1, n + 1)\n",
        "    i_n_val = i_val / n\n",
        "    i_n_menos_xi = i_n_val - lista\n",
        "    xi_menos_i1_n = lista - (i_val - 1) / n\n",
        "\n",
        "    # Calcular el estadístico D\n",
        "    D = max(max(abs(i_n_menos_xi)), max(abs(xi_menos_i1_n)))\n",
        "\n",
        "    # Crear la tabla\n",
        "    ks_table = pd.DataFrame({\n",
        "        \"i\": i_val,\n",
        "        \"x_i\": lista,\n",
        "        \"i/n\": i_n_val,\n",
        "        \"i/n - x_i\": i_n_menos_xi,\n",
        "        \"x_i - (i-1)/n\": xi_menos_i1_n\n",
        "    })\n",
        "\n",
        "    return ks_table, D\n",
        "\n",
        "alpha = 0.05\n",
        "N=25\n",
        "CV = ksone.ppf(1-alpha/2, N)\n",
        "\n",
        "# Ejemplo de uso\n",
        "datos = [\n",
        "    0.048, 0.591, 0.478, 0.166, 0.932,\n",
        "    0.926, 0.007, 0.551, 0.362, 0.533,\n",
        "    0.368, 0.437, 0.178, 0.411, 0.545,\n",
        "    0.787, 0.594, 0.086, 0.951, 0.772,\n",
        "    0.298, 0.199, 0.157, 0.401, 0.631\n",
        "]\n",
        "\n",
        "ks_table, D = kolmogorov_smirnov_test(datos)\n",
        "\n",
        "# Mostrar resultados\n",
        "print(ks_table)\n",
        "print(f\"Estadístico D: {D}\")\n",
        "print(f\"Critical Value (alpha={alpha}): {CV:.4f}\")\n",
        "\n",
        "if D>CV:\n",
        "  print(\"Se rechaza H0.\")\n",
        "else:\n",
        "  print(\"No se rechaza H0.\")"
      ]
    }
  ]
}