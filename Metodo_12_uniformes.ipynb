{
  "nbformat": 4,
  "nbformat_minor": 0,
  "metadata": {
    "colab": {
      "provenance": [],
      "authorship_tag": "ABX9TyNlWk87944PuN1O4stb48aF",
      "include_colab_link": true
    },
    "kernelspec": {
      "name": "python3",
      "display_name": "Python 3"
    },
    "language_info": {
      "name": "python"
    }
  },
  "cells": [
    {
      "cell_type": "markdown",
      "metadata": {
        "id": "view-in-github",
        "colab_type": "text"
      },
      "source": [
        "<a href=\"https://colab.research.google.com/github/manuel1729/Simulaci-n-1/blob/main/Metodo_12_uniformes.ipynb\" target=\"_parent\"><img src=\"https://colab.research.google.com/assets/colab-badge.svg\" alt=\"Open In Colab\"/></a>"
      ]
    },
    {
      "cell_type": "markdown",
      "source": [
        "Gómez Cruz Manuel"
      ],
      "metadata": {
        "id": "vSCGGS6kykdm"
      }
    },
    {
      "cell_type": "markdown",
      "source": [
        "** METODO DE LAS 12 UNIFORMES **\n",
        "\n",
        "Para generar: $f(x)=\\frac{1}{\\sqrt{2\\pi}}e^{-\\frac{1}{2}\\cdot (\\frac{x-\\mu}{\\sigma})^2}$"
      ],
      "metadata": {
        "id": "_mVCQ5gUvf_e"
      }
    },
    {
      "cell_type": "markdown",
      "source": [
        "Usamos el teorema central del límite.\n",
        "\n",
        "Generamos n números aleatorios y consideramos:\n",
        "\n",
        "$z=\\frac{Y-\\sum_{i=1}^{n}\\mu_i}{\\sqrt{\\sum_{i=1}^{n}\\sigma_i^2}}$ donde $\\quad Y=R_1+R_2+...+R_n$"
      ],
      "metadata": {
        "id": "axJLeuOuwb2q"
      }
    },
    {
      "cell_type": "markdown",
      "source": [
        "Tomamos n=12"
      ],
      "metadata": {
        "id": "7f0pZ3uyxNJD"
      }
    },
    {
      "cell_type": "markdown",
      "source": [
        "$z=\\frac{\\sum_{i=1}^{n}R_i-\\frac{n}{2}}{\\sqrt{\\frac{n}{12}}} ⇒ \\quad z=\\sum_{i=1}^{12}R_i-6$"
      ],
      "metadata": {
        "id": "WNGvXmcuxSBW"
      }
    },
    {
      "cell_type": "markdown",
      "source": [
        "Sustituyendo en $z=\\frac{x-\\mu}{\\sigma}$ despejamos x y sustituimos z"
      ],
      "metadata": {
        "id": "74KQ14fYxzVb"
      }
    },
    {
      "cell_type": "markdown",
      "source": [
        "$x=\\mu+\\sigma (\\sum_{i=1}^{12}R_i-6)$"
      ],
      "metadata": {
        "id": "EIpjYHc8yReR"
      }
    },
    {
      "cell_type": "code",
      "execution_count": 3,
      "metadata": {
        "id": "N9y3DSLx9EpQ"
      },
      "outputs": [],
      "source": [
        "#Librerías\n",
        "import random as rd\n",
        "import numpy as np\n",
        "import matplotlib.pyplot as plt"
      ]
    },
    {
      "cell_type": "code",
      "source": [
        "mu=2\n",
        "sigma=3\n",
        "#sumar 12 números aleatorios entre 0 y 1\n",
        "def suma():\n",
        "    return mu+sigma*(sum(rd.random() for i in range(12))-6)\n",
        "suma()"
      ],
      "metadata": {
        "colab": {
          "base_uri": "https://localhost:8080/"
        },
        "id": "m18OpHsd-igI",
        "outputId": "ffe3c19e-b956-412a-93dc-06b421ac8fb7"
      },
      "execution_count": 4,
      "outputs": [
        {
          "output_type": "execute_result",
          "data": {
            "text/plain": [
              "4.794113686221118"
            ]
          },
          "metadata": {},
          "execution_count": 4
        }
      ]
    },
    {
      "cell_type": "code",
      "source": [
        "#Llamamos función sums y los agregamos a una lista vacia de tamaño n\n",
        "def iteraciones(n):\n",
        "  lista=[]\n",
        "  for i in range(n):\n",
        "    lista.append(suma())\n",
        "  return lista"
      ],
      "metadata": {
        "id": "oU6Dbq8jAgp5"
      },
      "execution_count": 5,
      "outputs": []
    },
    {
      "cell_type": "code",
      "source": [
        "#Guardamos variable con n=10000\n",
        "l=iteraciones(10000)"
      ],
      "metadata": {
        "id": "bQQ5oTR0Azzh"
      },
      "execution_count": 6,
      "outputs": []
    },
    {
      "cell_type": "code",
      "source": [
        "#Mostramos el histograma\n",
        "plt.hist(l,bins=50)\n",
        "plt.show()"
      ],
      "metadata": {
        "colab": {
          "base_uri": "https://localhost:8080/",
          "height": 430
        },
        "id": "BJUa8WcuA9v-",
        "outputId": "e9c4cbc1-e547-43c4-856d-4eca1c6de0e4"
      },
      "execution_count": 7,
      "outputs": [
        {
          "output_type": "display_data",
          "data": {
            "text/plain": [
              "<Figure size 640x480 with 1 Axes>"
            ],
            "image/png": "[encoded data removed]"
          },
          "metadata": {}
        }
      ]
    },
    {
      "cell_type": "code",
      "source": [
        "print(\"La media es: \", np.mean(l))\n",
        "print(\"La s¡desviación: \",np.std(l))"
      ],
      "metadata": {
        "colab": {
          "base_uri": "https://localhost:8080/"
        },
        "id": "vA04BjUGBcOi",
        "outputId": "3d1279ee-b91d-451b-a6d7-d45851080e20"
      },
      "execution_count": 18,
      "outputs": [
        {
          "output_type": "stream",
          "name": "stdout",
          "text": [
            "La media es:  2.004397236349428\n",
            "La s¡desviación:  2.9860193808265745\n"
          ]
        }
      ]
    }
  ]
}