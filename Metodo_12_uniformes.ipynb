{
  "nbformat": 4,
  "nbformat_minor": 0,
  "metadata": {
    "colab": {
      "provenance": [],
      "authorship_tag": "ABX9TyPfDSEqsaj2W7UBwBvXgaSR",
      "include_colab_link": true
    },
    "kernelspec": {
      "name": "python3",
      "display_name": "Python 3"
    },
    "language_info": {
      "name": "python"
    }
  },
  "cells": [
    {
      "cell_type": "markdown",
      "metadata": {
        "id": "view-in-github",
        "colab_type": "text"
      },
      "source": [
        "<a href=\"https://colab.research.google.com/github/manuel1729/Simulaci-n-1/blob/main/Metodo_12_uniformes.ipynb\" target=\"_parent\"><img src=\"https://colab.research.google.com/assets/colab-badge.svg\" alt=\"Open In Colab\"/></a>"
      ]
    },
    {
      "cell_type": "markdown",
      "source": [
        "Gómez Cruz Manuel"
      ],
      "metadata": {
        "id": "vSCGGS6kykdm"
      }
    },
    {
      "cell_type": "markdown",
      "source": [
        "** METODO DE LAS 12 UNIFORMES **\n",
        "\n",
        "Para generar: $f(x)=\\frac{1}{\\sqrt{2\\pi}}e^{-\\frac{1}{2}\\cdot (\\frac{x-\\mu}{\\sigma})^2}$"
      ],
      "metadata": {
        "id": "_mVCQ5gUvf_e"
      }
    },
    {
      "cell_type": "markdown",
      "source": [
        "Usamos el teorema central del límite.\n",
        "\n",
        "Generamos n números aleatorios y consideramos:\n",
        "\n",
        "$z=\\frac{Y-\\sum_{i=1}^{n}\\mu_i}{\\sqrt{\\sum_{i=1}^{n}\\sigma_i^2}}$ donde $\\quad Y=R_1+R_2+...+R_n$"
      ],
      "metadata": {
        "id": "axJLeuOuwb2q"
      }
    },
    {
      "cell_type": "markdown",
      "source": [
        "Tomamos n=12"
      ],
      "metadata": {
        "id": "7f0pZ3uyxNJD"
      }
    },
    {
      "cell_type": "markdown",
      "source": [
        "$z=\\frac{\\sum_{i=1}^{n}R_i-\\frac{n}{2}}{\\sqrt{\\frac{n}{12}}} ⇒ \\quad z=\\sum_{i=1}^{12}R_i-6$"
      ],
      "metadata": {
        "id": "WNGvXmcuxSBW"
      }
    },
    {
      "cell_type": "markdown",
      "source": [
        "Sustituyendo en $z=\\frac{x-\\mu}{\\sigma}$ despejamos x y sustituimos z"
      ],
      "metadata": {
        "id": "74KQ14fYxzVb"
      }
    },
    {
      "cell_type": "markdown",
      "source": [
        "$x=\\mu+\\sigma (\\sum_{i=1}^{12}R_i-6)$"
      ],
      "metadata": {
        "id": "EIpjYHc8yReR"
      }
    },
    {
      "cell_type": "code",
      "execution_count": null,
      "metadata": {
        "id": "N9y3DSLx9EpQ"
      },
      "outputs": [],
      "source": [
        "#Método de las 12 uniformes\n",
        "import random as rd\n",
        "import numpy as np\n",
        "import matplotlib.pyplot as plt"
      ]
    },
    {
      "cell_type": "code",
      "source": [
        "mu=2\n",
        "sigma=3\n",
        "#sumar 12 números aleatorios entre 0 y 1\n",
        "def suma():\n",
        "    return mu+sigma*(sum(rd.random() for i in range(12))-6)\n",
        "suma()"
      ],
      "metadata": {
        "colab": {
          "base_uri": "https://localhost:8080/"
        },
        "id": "m18OpHsd-igI",
        "outputId": "a1651434-f412-472c-f977-bc8e31dee0e1"
      },
      "execution_count": null,
      "outputs": [
        {
          "output_type": "execute_result",
          "data": {
            "text/plain": [
              "-1.8513553020769287"
            ]
          },
          "metadata": {},
          "execution_count": 16
        }
      ]
    },
    {
      "cell_type": "code",
      "source": [
        "def iteraciones(n):\n",
        "  lista=[]\n",
        "  for i in range(n):\n",
        "    lista.append(suma())\n",
        "  return lista"
      ],
      "metadata": {
        "id": "oU6Dbq8jAgp5"
      },
      "execution_count": null,
      "outputs": []
    },
    {
      "cell_type": "code",
      "source": [
        "l=iteraciones(10000)"
      ],
      "metadata": {
        "id": "bQQ5oTR0Azzh"
      },
      "execution_count": null,
      "outputs": []
    },
    {
      "cell_type": "code",
      "source": [
        "plt.hist(l,bins=50)"
      ],
      "metadata": {
        "colab": {
          "base_uri": "https://localhost:8080/",
          "height": 778
        },
        "id": "BJUa8WcuA9v-",
        "outputId": "c618fd3d-5c36-4856-aee4-2964974c0f85"
      },
      "execution_count": null,
      "outputs": [
        {
          "output_type": "execute_result",
          "data": {
            "text/plain": [
              "(array([  1.,   3.,   2.,   7.,   7.,  14.,  23.,  34.,  59.,  62.,  86.,\n",
              "        112., 150., 168., 224., 263., 291., 348., 361., 433., 488., 560.,\n",
              "        586., 567., 560., 573., 512., 533., 459., 472., 377., 314., 307.,\n",
              "        229., 183., 179., 121., 112.,  64.,  54.,  30.,  26.,  20.,  14.,\n",
              "          6.,   1.,   3.,   0.,   1.,   1.]),\n",
              " array([-8.49773456, -8.06634493, -7.6349553 , -7.20356567, -6.77217604,\n",
              "        -6.34078642, -5.90939679, -5.47800716, -5.04661753, -4.6152279 ,\n",
              "        -4.18383827, -3.75244865, -3.32105902, -2.88966939, -2.45827976,\n",
              "        -2.02689013, -1.59550051, -1.16411088, -0.73272125, -0.30133162,\n",
              "         0.13005801,  0.56144764,  0.99283726,  1.42422689,  1.85561652,\n",
              "         2.28700615,  2.71839578,  3.1497854 ,  3.58117503,  4.01256466,\n",
              "         4.44395429,  4.87534392,  5.30673355,  5.73812317,  6.1695128 ,\n",
              "         6.60090243,  7.03229206,  7.46368169,  7.89507132,  8.32646094,\n",
              "         8.75785057,  9.1892402 ,  9.62062983, 10.05201946, 10.48340908,\n",
              "        10.91479871, 11.34618834, 11.77757797, 12.2089676 , 12.64035723,\n",
              "        13.07174685]),\n",
              " <BarContainer object of 50 artists>)"
            ]
          },
          "metadata": {},
          "execution_count": 23
        },
        {
          "output_type": "display_data",
          "data": {
            "text/plain": [
              "<Figure size 640x480 with 1 Axes>"
            ],
            "image/png": "[encoded data removed]"
          },
          "metadata": {}
        }
      ]
    },
    {
      "cell_type": "code",
      "source": [
        "print(np.mean(l))\n",
        "print(np.std(l))"
      ],
      "metadata": {
        "colab": {
          "base_uri": "https://localhost:8080/"
        },
        "id": "vA04BjUGBcOi",
        "outputId": "3eddc869-52a6-4344-993b-f62a31a3b4ff"
      },
      "execution_count": null,
      "outputs": [
        {
          "output_type": "stream",
          "name": "stdout",
          "text": [
            "1.9025363016163823\n",
            "3.064634328337027\n"
          ]
        }
      ]
    }
  ]
}