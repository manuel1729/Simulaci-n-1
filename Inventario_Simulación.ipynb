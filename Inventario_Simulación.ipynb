{
  "nbformat": 4,
  "nbformat_minor": 0,
  "metadata": {
    "colab": {
      "provenance": [],
      "authorship_tag": "ABX9TyOgMejlXxOuYHpiXze/jNTW",
      "include_colab_link": true
    },
    "kernelspec": {
      "name": "python3",
      "display_name": "Python 3"
    },
    "language_info": {
      "name": "python"
    }
  },
  "cells": [
    {
      "cell_type": "markdown",
      "metadata": {
        "id": "view-in-github",
        "colab_type": "text"
      },
      "source": [
        "<a href=\"https://colab.research.google.com/github/manuel1729/Simulaci-n-1/blob/main/Inventario_Simulaci%C3%B3n.ipynb\" target=\"_parent\"><img src=\"https://colab.research.google.com/assets/colab-badge.svg\" alt=\"Open In Colab\"/></a>"
      ]
    },
    {
      "cell_type": "code",
      "source": [
        "import numpy as np\n",
        "import random as rd\n",
        "from scipy.stats import t\n",
        "import matplotlib.pyplot as plt"
      ],
      "metadata": {
        "id": "3DPVAHQLIiQO"
      },
      "execution_count": 56,
      "outputs": []
    },
    {
      "cell_type": "code",
      "source": [
        "# PARÁMETROS Y DISTRIBUCIONES DEL PROBLEMA\n",
        "COSTO_ORDENAR = 100\n",
        "COSTO_INVENTARIO_ANUAL = 20  # $/unidad/año\n",
        "COSTO_INVENTARIO_MES = COSTO_INVENTARIO_ANUAL / 12  # $1.67/unidad/mes\n",
        "COSTO_FALTANTE = 50  # $/unidad\n",
        "INVENTARIO_INICIAL = 150  # unidades\n",
        "MESES = 12"
      ],
      "metadata": {
        "id": "Fw2aI8PAJDuh"
      },
      "execution_count": 23,
      "outputs": []
    },
    {
      "cell_type": "code",
      "source": [
        "# Factores estacinales durante el año\n",
        "factores_estacionales = [\n",
        "    1.20, 1.00, 0.90, 0.80, 0.80, 0.70,\n",
        "    0.80, 0.90, 1.00, 1.20, 1.30, 1.40]\n",
        "\n",
        "# Demanda y tiempo entrega\n",
        "def demanda_trans_inver():\n",
        "  r = rd.random()\n",
        "  if r < 0.01: return 35\n",
        "  elif 0.010 <= r and r < 0.025: return 36\n",
        "  elif 0.025 <= r and r < 0.045: return 37\n",
        "  elif 0.045 <= r and r < 0.065: return 38\n",
        "  elif 0.065 <= r and r < 0.087: return 39\n",
        "  elif 0.087 <= r and r < 0.110: return 40\n",
        "  elif 0.110 <= r and r < 0.135: return 41\n",
        "  elif 0.135 <= r and r < 0.162: return 42\n",
        "  elif 0.162 <= r and r < 0.190: return 43\n",
        "  elif 0.190 <= r and r < 0.219: return 44\n",
        "  elif 0.219 <= r and r < 0.254: return 45\n",
        "  elif 0.254 <= r and r < 0.299: return 46\n",
        "  elif 0.299 <= r and r < 0.359: return 47\n",
        "  elif 0.359 <= r and r < 0.424: return 48\n",
        "  elif 0.424 <= r and r < 0.494: return 49\n",
        "  elif 0.494 <= r and r < 0.574: return 50\n",
        "  elif 0.574 <= r and r < 0.649: return 51\n",
        "  elif 0.649 <= r and r < 0.719: return 52\n",
        "  elif 0.719 <= r and r < 0.784: return 53\n",
        "  elif 0.784 <= r and r < 0.844: return 54\n",
        "  elif 0.844 <= r and r < 0.894: return 55\n",
        "  elif 0.894 <= r and r < 0.934: return 56\n",
        "  elif 0.934 <= r and r < 0.964: return 57\n",
        "  elif 0.964 <= r and r < 0.980: return 58\n",
        "  elif 0.980 <= r and r < 0.995: return 59\n",
        "  else: return 60\n",
        "\n",
        "def generar_tiempo_entrega():\n",
        "    r = rd.random()\n",
        "    if r < 0.3:\n",
        "        return 1\n",
        "    elif r < 0.7:\n",
        "        return 2\n",
        "    else:\n",
        "        return 3"
      ],
      "metadata": {
        "id": "H9fQCz7YJpcg"
      },
      "execution_count": 14,
      "outputs": []
    },
    {
      "cell_type": "code",
      "source": [
        "#Simulamos un año el inventario\n",
        "def simular_12(q, R, seed=None):\n",
        "    if seed is not None:\n",
        "        np.random.seed(seed)\n",
        "\n",
        "    inventario = INVENTARIO_INICIAL\n",
        "    orden_pendiente = False\n",
        "    mes_llegada_orden = None\n",
        "    registros = []\n",
        "\n",
        "    # Costos acumulados inicimos en 0\n",
        "    costo_ordenar_anual = 0\n",
        "    costo_inventario_anual = 0\n",
        "    costo_faltante_anual = 0\n",
        "\n",
        "    for mes in range(MESES):\n",
        "        #órdenes pendientes\n",
        "        if orden_pendiente and mes == mes_llegada_orden:\n",
        "            inventario += q\n",
        "            orden_pendiente = False\n",
        "\n",
        "        #Calculamos demanda ajustada\n",
        "        demanda_base = demanda_trans_inver()\n",
        "        demanda_ajustada = round(demanda_base * factores_estacionales[mes])\n",
        "        inventario_inicial = inventario\n",
        "\n",
        "        #Satisfacemos demanda y calculamos el faltante\n",
        "        inventario -= demanda_ajustada\n",
        "        faltante = max(0, -inventario)\n",
        "\n",
        "        # Ajustamos inventario si hay faltante\n",
        "        if inventario < 0:\n",
        "            inventario = 0\n",
        "\n",
        "        #Calculamos inventario promedio del mes\n",
        "        inventario_prom = (inventario_inicial + inventario) / 2\n",
        "\n",
        "        #Calculamos los costos del mes\n",
        "        costo_inv_mes = inventario_prom * COSTO_INVENTARIO_MES\n",
        "        costo_faltante_mes = faltante * COSTO_FALTANTE\n",
        "        costo_orden_mes = 0\n",
        "\n",
        "        #Ordenamos si es necesario\n",
        "        if inventario <= R and not orden_pendiente:\n",
        "            tiempo_entrega = generar_tiempo_entrega()\n",
        "            mes_llegada_orden = mes + tiempo_entrega\n",
        "            orden_pendiente = True\n",
        "            costo_orden_mes = COSTO_ORDENAR\n",
        "\n",
        "        # Registramos todo lo snterior por mes en un diccionario\n",
        "        registros.append({\n",
        "            'Mes': mes + 1,\n",
        "            'Inventario Inicial': inventario_inicial,\n",
        "            'Demanda Base': demanda_base,\n",
        "            'Factor Estacional': factores_estacionales[mes],\n",
        "            'Demanda Ajustada': demanda_ajustada,\n",
        "            'Inventario Final': inventario,\n",
        "            'Faltante': faltante,\n",
        "            'Orden Colocada': 1 if costo_orden_mes > 0 else 0,\n",
        "            'Costo Orden': costo_orden_mes,\n",
        "            'Costo Inventario': costo_inv_mes,\n",
        "            'Costo Faltante': costo_faltante_mes\n",
        "        })\n",
        "\n",
        "        # Acumulamos los costos anuales\n",
        "        costo_ordenar_anual += costo_orden_mes\n",
        "        costo_inventario_anual += costo_inv_mes\n",
        "        costo_faltante_anual += costo_faltante_mes\n",
        "\n",
        "    # Calculamos el costo total anual\n",
        "    costo_total_anual = costo_ordenar_anual + costo_inventario_anual + costo_faltante_anual\n",
        "\n",
        "    return {\n",
        "        'Registros': pd.DataFrame(registros),\n",
        "        'Costo Ordenar Anual': costo_ordenar_anual,\n",
        "        'Costo Inventario Anual': costo_inventario_anual,\n",
        "        'Costo Faltante Anual': costo_faltante_anual,\n",
        "        'Costo Total Anual': costo_total_anual\n",
        "    }"
      ],
      "metadata": {
        "id": "oiUdae8MLGak"
      },
      "execution_count": 24,
      "outputs": []
    },
    {
      "cell_type": "code",
      "source": [
        "def simular_multiple(q, R, n, seed=None):\n",
        "    #Simula múltiples años\n",
        "    costos_totales = []\n",
        "\n",
        "    for i in range(n):\n",
        "        current_seed = seed + i if seed is not None else None\n",
        "        resultados = simular_12(q, R, current_seed)\n",
        "        costos_totales.append(resultados['Costo Total Anual'])\n",
        "\n",
        "    return np.mean(costos_totales)"
      ],
      "metadata": {
        "id": "3Z-vpDKRK7IM"
      },
      "execution_count": 25,
      "outputs": []
    },
    {
      "cell_type": "code",
      "source": [
        "#Ejecutamos con datos del ejercicio.\n",
        "if __name__ == \"__main__\":\n",
        "    #Simulamos con los valores iniciales\n",
        "    q_ini, R_ini = 200, 100\n",
        "    resultados_ini = simular_12(q_ini, R_ini, seed=42)\n",
        "\n",
        "    print(\"RESULTADOS SIMULACIÓN VALORES INICIALES PARA UN AÑO (q=200, R=100)\")\n",
        "    print(\"=\"*60)\n",
        "    print(f\"Costo total anual: ${resultados_ini['Costo Total Anual']:,.2f}\")\n",
        "    print(f\" - Costo de ordenar: ${resultados_ini['Costo Ordenar Anual']:,.2f}\")\n",
        "    print(f\" - Costo de inventario: ${resultados_ini['Costo Inventario Anual']:,.2f}\")\n",
        "    print(f\" - Costo de faltante: ${resultados_ini['Costo Faltante Anual']:,.2f}\")\n",
        "\n",
        "    print(\"\\nDetalle mensual:\")\n",
        "    print(resultados_ini['Registros'].to_string(index=False))\n",
        "\n",
        "    #Simulamos 10 múltiples años para estabilizar\n",
        "    n = 5\n",
        "    costo_promedio = simular_multiple(q_ini, R_ini, n, seed=42)\n",
        "    print(f\"\\nCosto promedio anual ({n} años): ${costo_promedio:,.2f}\")"
      ],
      "metadata": {
        "colab": {
          "base_uri": "https://localhost:8080/"
        },
        "id": "c5DW6iJ9Lbg6",
        "outputId": "79373395-c95e-4c33-e8d9-020cba27e5f8"
      },
      "execution_count": 79,
      "outputs": [
        {
          "output_type": "stream",
          "name": "stdout",
          "text": [
            "RESULTADOS SIMULACIÓN VALORES INICIALES PARA UN AÑO (q=200, R=100)\n",
            "============================================================\n",
            "Costo total anual: $4,785.00\n",
            " - Costo de ordenar: $300.00\n",
            " - Costo de inventario: $2,535.00\n",
            " - Costo de faltante: $1,950.00\n",
            "\n",
            "Detalle mensual:\n",
            " Mes  Inventario Inicial  Demanda Base  Factor Estacional  Demanda Ajustada  Inventario Final  Faltante  Orden Colocada  Costo Orden  Costo Inventario  Costo Faltante\n",
            "   1                 150            39                1.2                47               103         0               0            0        210.833333               0\n",
            "   2                 103            60                1.0                60                43         0               1          100        121.666667               0\n",
            "   3                 243            52                0.9                47               196         0               0            0        365.833333               0\n",
            "   4                 196            48                0.8                38               158         0               0            0        295.000000               0\n",
            "   5                 158            48                0.8                38               120         0               0            0        231.666667               0\n",
            "   6                 120            48                0.7                34                86         0               1          100        171.666667               0\n",
            "   7                  86            50                0.8                40                46         0               0            0        110.000000               0\n",
            "   8                 246            54                0.9                49               197         0               0            0        369.166667               0\n",
            "   9                 197            43                1.0                43               154         0               0            0        292.500000               0\n",
            "  10                 154            40                1.2                48               106         0               0            0        216.666667               0\n",
            "  11                 106            53                1.3                69                37         0               1          100        119.166667               0\n",
            "  12                  37            54                1.4                76                 0        39               0            0         30.833333            1950\n",
            "\n",
            "Costo promedio anual (5 años): $3,852.17\n"
          ]
        }
      ]
    },
    {
      "cell_type": "code",
      "source": [
        "def simular_costo_promedio(q, R, n, seed=None, alpha=0.05):\n",
        "    costos = []\n",
        "\n",
        "    for i in range(n):\n",
        "        semilla = seed + i if seed is not None else None\n",
        "        resultados = simular_12(q, R, semilla)\n",
        "        costos.append(resultados[\"Costo Total Anual\"])\n",
        "\n",
        "    media = np.mean(costos)\n",
        "    std = np.std(costos, ddof=1)\n",
        "    error_est = std / np.sqrt(n)\n",
        "\n",
        "    t_crit = t.ppf(1 - alpha/2, df=n-1)\n",
        "    margen_error = t_crit * error_est\n",
        "\n",
        "    ic_inf = media - margen_error\n",
        "    ic_sup = media + margen_error\n",
        "\n",
        "    return {\n",
        "        \"Media\": media,\n",
        "        \"Desviación estándar\": std,\n",
        "        \"Error estándar\": error_est,\n",
        "        \"Intervalo de confianza\": (ic_inf, ic_sup),\n",
        "        \"Costos simulados\": costos\n",
        "    }"
      ],
      "metadata": {
        "id": "ieejEPi_RbS5"
      },
      "execution_count": 80,
      "outputs": []
    },
    {
      "cell_type": "code",
      "source": [
        "resultado_mc = simular_costo_promedio(q_ini, R_ini, n=100, seed=42)\n",
        "print(f\"Costo promedio estimado: ${resultado_mc['Media']:,.2f}\")\n",
        "print(f\"Desviación estándar: ${resultado_mc['Desviación estándar']:,.2f}\")\n",
        "print(f\"IC 95%: (${resultado_mc['Intervalo de confianza'][0]:,.2f}, ${resultado_mc['Intervalo de confianza'][1]:,.2f})\")\n",
        "resultado_mc = simular_costo_promedio(q_ini, R_ini, n=100, seed=42)\n",
        "print(f\"Costo promedio estimado: ${resultado_mc['Media']:,.2f}\")"
      ],
      "metadata": {
        "colab": {
          "base_uri": "https://localhost:8080/"
        },
        "id": "51PFl9EiRiqC",
        "outputId": "ff52c736-68a0-4bce-ef2a-6fff5e163ba6"
      },
      "execution_count": 83,
      "outputs": [
        {
          "output_type": "stream",
          "name": "stdout",
          "text": [
            "Costo promedio estimado: $3,797.62\n",
            "Desviación estándar: $847.61\n",
            "IC 95%: ($3,629.44, $3,965.81)\n",
            "Costo promedio estimado: $3,969.93\n"
          ]
        }
      ]
    }
  ]
}