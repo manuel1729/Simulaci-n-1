{
  "cells": [
    {
      "cell_type": "markdown",
      "metadata": {
        "id": "view-in-github",
        "colab_type": "text"
      },
      "source": [
        "<a href=\"https://colab.research.google.com/github/manuel1729/Simulaci-n-1/blob/main/Actividad_10_Cita.ipynb\" target=\"_parent\"><img src=\"https://colab.research.google.com/assets/colab-badge.svg\" alt=\"Open In Colab\"/></a>"
      ]
    },
    {
      "cell_type": "markdown",
      "id": "a5cc0a87",
      "metadata": {
        "id": "a5cc0a87"
      },
      "source": [
        "# Metodología de la Simulación para Actividad 10"
      ]
    },
    {
      "cell_type": "markdown",
      "id": "0e218d98",
      "metadata": {
        "id": "0e218d98"
      },
      "source": [
        "### 1. Identifique las variables\n",
        "\n",
        "Aquellas cuyo comportamiento define el comportamiento o la evoución global del sistema real."
      ]
    },
    {
      "cell_type": "markdown",
      "id": "3ebcd0f2",
      "metadata": {
        "id": "3ebcd0f2"
      },
      "source": [
        "### 2. Determine la distribución de probabilidad\n",
        "\n",
        "Elija el tipo de distribución de probabilidad que mejor defina el comportamiento aleatorio de cada una de las variables del sistema identificadas en el paso anterior."
      ]
    },
    {
      "cell_type": "markdown",
      "id": "803801d5",
      "metadata": {
        "id": "803801d5"
      },
      "source": [
        "### 3. Modele las variables aleatorias\n",
        "\n",
        "Cosntruya un modelo fiel de la aleatoriedad de las variables del sistema. Simular el comportamiento del sistema implica generar muestras aleatorias de cada variable que sigan fielmente la distribución de probabilidad correspondiente."
      ]
    },
    {
      "cell_type": "markdown",
      "id": "33709223",
      "metadata": {
        "id": "33709223"
      },
      "source": [
        "### 4. Defina el modelo del sistema y los objetivos de la simulación\n",
        "\n",
        "Fije los objetivos y diseñe un modelo del sistema real que abstraiga sus propiedades más relevantes. Todo error en el modelo (o su implementación computacional) puede dar lugar a conclusiones equivocadas.\n",
        "\n",
        "Antes de experimentar con el modelo, asegurarse de que refleja fielmente el sistema real **validando** el mismo a partir de datos reales, para ello compare los resultados obtenidos de la simulación con los producidos por el sistema."
      ]
    },
    {
      "cell_type": "markdown",
      "id": "7f853065",
      "metadata": {
        "id": "7f853065"
      },
      "source": [
        "### 5. Diseñe el experimento\n",
        "\n",
        "Diseñe un experimento así como las ejecuciones concretas del mismo, los escenarios que desea estudiar para alcanzar los objetivos fijados. El experimento consiste en generar valores de las variables cuyo comportamiento define el comportamiento del sistema y analizar este ante dichos valores."
      ]
    },
    {
      "cell_type": "markdown",
      "id": "15ae61c8",
      "metadata": {
        "id": "15ae61c8"
      },
      "source": [
        "### 6. Repita el experimento $n$ veces\n",
        "\n",
        "Así dispondrá de $n$ observaciones sobre el comportamiento del sistema, lo que permitirá entender su funcionamiento así como evaluar el desempeño del mismo frente a los diversos escenarios establecidos.\n",
        "\n",
        "El **método Monte Carlo** se basa en la **Ley Fuerte de los Grandes Números** y el **Teorema del Límite Central**."
      ]
    },
    {
      "cell_type": "markdown",
      "source": [
        "## Ejemplo: Gómez Cruz Manuel\n",
        "\n",
        "Dos personas han quedado citas en un determinado lugar. Ambas tienen la misma\n",
        "probabilidad de llegar al lugar de la cita en el intervalo de tiempo [0, 30] (minutos).\n",
        "Determínese la probabilidad de que el tiempo que una persona espere a la otra sea como máximo 10 minutos.\n",
        "1. Analíticamente.\n",
        "2. Mediante simulación."
      ],
      "metadata": {
        "id": "RY0UDmJl5YRK"
      },
      "id": "RY0UDmJl5YRK"
    },
    {
      "cell_type": "markdown",
      "id": "6f1b4105",
      "metadata": {
        "id": "6f1b4105"
      },
      "source": [
        "Analiticamente:\n",
        "\n",
        "X: tiempo llegada de 1er persona\n",
        "\n",
        "Y: tiempo llegada de 2da persona\n",
        "\n",
        "Espacio muestral\n",
        "\n",
        "$Ω=\\{(x,y) |\\quad x\\in \\{1,2,..,30\\}\\},y\\in \\{1,2,..,30\\}\\}\\quad |Ω|=30\\cdot 30=900$\n",
        "\n",
        "\n",
        "$$P(|X-Y|\\leq 10 )=\\frac{Area favorable}{Area Total}$$\n",
        "\n",
        "**Área total**=30x30=900"
      ]
    },
    {
      "cell_type": "markdown",
      "source": [
        "**Área fuera de la franja**\n",
        "\n",
        "Triángulo superior=Triángulo inferior\n",
        "\n",
        "Área total fuera de la franja=2*Área Triángulo Superior\n",
        "\n",
        "$$=2*\\frac{20\\cdot 20}{2}=400$$\n",
        "\n",
        "Área favorable=Área Total-Área total fuera de la franja=900-400=500\n",
        "\n",
        "$$\\therefore P(|X-Y|\\leq 10 )=\\frac{Area favorable}{Area Total}=\\frac{500}{900}=\\frac{5}{9} $$"
      ],
      "metadata": {
        "id": "mm0-P1aE-ASG"
      },
      "id": "mm0-P1aE-ASG"
    },
    {
      "cell_type": "markdown",
      "id": "564ca694",
      "metadata": {
        "id": "564ca694"
      },
      "source": [
        "Por simulación: Construimos el modelo en varios pasos."
      ]
    },
    {
      "cell_type": "markdown",
      "id": "fbbc8571",
      "metadata": {
        "id": "fbbc8571"
      },
      "source": [
        "**PASO 1**. Defina las variables que intervienen en el modelo."
      ]
    },
    {
      "cell_type": "markdown",
      "source": [
        "$$X,Y \\sim U(0,30)$$"
      ],
      "metadata": {
        "id": "NLpIpYwrD4NW"
      },
      "id": "NLpIpYwrD4NW"
    },
    {
      "cell_type": "markdown",
      "id": "4d3899f3",
      "metadata": {
        "id": "4d3899f3"
      },
      "source": [
        "**PASO 2**. Formule la distribución de probabilidad de cada variable."
      ]
    },
    {
      "cell_type": "markdown",
      "id": "fefa1334",
      "metadata": {
        "id": "fefa1334"
      },
      "source": [
        "$$X \\sim\n",
        "  f(x) = \\begin{cases}\n",
        "    \\frac{1}{b-a}=\\frac{1}{30} & \\text{para } a=0 \\leq x \\leq b=30 \\\\\n",
        "    0 & \\text{en otro caso}\n",
        "  \\end{cases}$$\n",
        "\n",
        "$$Y \\sim  \n",
        "  f(x) = \\begin{cases}\n",
        "    \\frac{1}{30} & \\text{para } 0 \\leq y \\leq 30 \\\\\n",
        "    0 & \\text{en otro caso}\n",
        "  \\end{cases}\n",
        "  $$"
      ]
    },
    {
      "cell_type": "markdown",
      "id": "fd02116a",
      "metadata": {
        "id": "fd02116a"
      },
      "source": [
        "**PASO 3**. Enumere la distribución acumulada de probabilidad de cada variable."
      ]
    },
    {
      "cell_type": "markdown",
      "id": "59e252c6",
      "metadata": {
        "id": "59e252c6"
      },
      "source": [
        "$F(x)=\\int_{-\\infty}^{x}f(t)dt= \\begin{cases}\n",
        "    \\frac{x}{30} & \\text{para } 0 \\leq x \\leq 30 \\\\\n",
        "    0 & \\text{en otro caso}\n",
        "  \\end{cases}$\n",
        "\n",
        "$F(y)=\\int_{-\\infty}^{y}f(t)dt= \\begin{cases}\n",
        "    \\frac{y}{30} & \\text{para } 0 \\leq y \\leq 30 \\\\\n",
        "    0 & \\text{en otro caso}\n",
        "  \\end{cases}$"
      ]
    },
    {
      "cell_type": "code",
      "execution_count": 1,
      "id": "7d56c432",
      "metadata": {
        "id": "7d56c432",
        "colab": {
          "base_uri": "https://localhost:8080/"
        },
        "outputId": "893c9cb3-6f35-40ff-dcad-a18d1ada9eca"
      },
      "outputs": [
        {
          "output_type": "stream",
          "name": "stdout",
          "text": [
            "24.64571482413764\n",
            "25.793817149244006\n"
          ]
        }
      ],
      "source": [
        "import random\n",
        "import numpy as np\n",
        "\n",
        "x=random.uniform(0,30)\n",
        "y=random.uniform(0,30)\n",
        "print(x)\n",
        "print(y)"
      ]
    },
    {
      "cell_type": "markdown",
      "id": "4852dcac",
      "metadata": {
        "id": "4852dcac"
      },
      "source": [
        "**PASO 4**. Establezca el intervalo de números aleatorios correspondiente a cada valor de cada una de las variables."
      ]
    },
    {
      "cell_type": "markdown",
      "id": "905db069",
      "metadata": {
        "id": "905db069"
      },
      "source": [
        "Condición:\n",
        "$$|X-Y|\\leq 10$$\n",
        "\n",
        "Buscamos $P(|X-Y|\\leq 10)$"
      ]
    },
    {
      "cell_type": "markdown",
      "id": "edb6b074",
      "metadata": {
        "id": "edb6b074"
      },
      "source": [
        "**PASO 5**. Genere números aleatorios."
      ]
    },
    {
      "cell_type": "code",
      "source": [
        "#Librerias y experimento para n veces\n",
        "import random\n",
        "def experimento(n):\n",
        "    exitos=0\n",
        "    for i  in range(n):\n",
        "        X=random.uniform(0,30)\n",
        "        Y=random.uniform(0,30)\n",
        "        if abs(X-Y)<=10:\n",
        "            exitos+=1\n",
        "    prob=exitos/n\n",
        "    return prob"
      ],
      "metadata": {
        "id": "bKdfipAVH97-"
      },
      "id": "bKdfipAVH97-",
      "execution_count": 2,
      "outputs": []
    },
    {
      "cell_type": "code",
      "source": [
        "#Probamos el experimento\n",
        "e=experimento(1000)\n",
        "print(e)"
      ],
      "metadata": {
        "colab": {
          "base_uri": "https://localhost:8080/"
        },
        "id": "6Fwq-4gVCDP7",
        "outputId": "e626216f-5f08-44bb-8bde-1a21aab6f36f"
      },
      "id": "6Fwq-4gVCDP7",
      "execution_count": 7,
      "outputs": [
        {
          "output_type": "stream",
          "name": "stdout",
          "text": [
            "0.552\n"
          ]
        }
      ]
    },
    {
      "cell_type": "markdown",
      "id": "f38f3396",
      "metadata": {
        "id": "f38f3396"
      },
      "source": [
        "**PASO 6**. Repetir M veces el experimento"
      ]
    },
    {
      "cell_type": "code",
      "source": [
        "def muestra(m):\n",
        "    lista =[]\n",
        "    for i in range(m):\n",
        "        d =experimento(i+1)\n",
        "        lista.append(d)\n",
        "    return lista"
      ],
      "metadata": {
        "id": "BlIETqbCkfwB"
      },
      "id": "BlIETqbCkfwB",
      "execution_count": 8,
      "outputs": []
    },
    {
      "cell_type": "code",
      "source": [
        "M=muestra(1000) #muestra con m=100\n",
        "print('Media aprox muestra:',np.mean(M))\n",
        "print('Varianza aprox muestra:', np.var(M))\n",
        "print('Desviación estandar aprox muestra:', np.std(M))"
      ],
      "metadata": {
        "colab": {
          "base_uri": "https://localhost:8080/"
        },
        "id": "NyIp3DDZlADP",
        "outputId": "198cef5e-bee7-48a1-f1c3-cf6a60ba9a0a"
      },
      "id": "NyIp3DDZlADP",
      "execution_count": 9,
      "outputs": [
        {
          "output_type": "stream",
          "name": "stdout",
          "text": [
            "Media aprox muestra: 0.5561784874306035\n",
            "Varianza aprox muestra: 0.0017196662781360536\n",
            "Desviación estandar aprox muestra: 0.041468859137141136\n"
          ]
        }
      ]
    },
    {
      "cell_type": "markdown",
      "id": "d270399e",
      "metadata": {
        "id": "d270399e"
      },
      "source": [
        "**PASO 7**. Obtenga la gráfica de estabilización que indica que el tamaño de muestra utilizado es suficiente para\n",
        "garantizar la convergencia del resultado."
      ]
    },
    {
      "cell_type": "code",
      "source": [
        "import matplotlib.pyplot as plt\n",
        "#Gráfica de la estabilización\n",
        "plt.plot(M)\n",
        "plt.xlabel('Iteraciones')\n",
        "plt.ylabel('p')\n",
        "plt.title('Proba de la muestra')\n",
        "plt.axhline(y=np.mean(M), color='r', label=\"media:\")\n",
        "plt.axhline(y=np.mean(M)+np.std(M),color='cyan', linestyle='--', label=\"Desviación estandar\")\n",
        "plt.axhline(y=np.mean(M)-np.std(M), color='cyan', linestyle='--')\n",
        "plt.show()"
      ],
      "metadata": {
        "colab": {
          "base_uri": "https://localhost:8080/",
          "height": 472
        },
        "id": "M9GtXHviJlr7",
        "outputId": "356d8388-1a38-4114-e01e-e01d5dd0fadc"
      },
      "id": "M9GtXHviJlr7",
      "execution_count": 10,
      "outputs": [
        {
          "output_type": "display_data",
          "data": {
            "text/plain": [
              "<Figure size 640x480 with 1 Axes>"
            ],
            "image/png": "[encoded data removed]"
          },
          "metadata": {}
        }
      ]
    },
    {
      "cell_type": "markdown",
      "id": "f596fcd1",
      "metadata": {
        "id": "f596fcd1"
      },
      "source": [
        "**PASO 8**. Replique el modelo."
      ]
    },
    {
      "cell_type": "code",
      "execution_count": 11,
      "id": "b237f0d0",
      "metadata": {
        "id": "b237f0d0"
      },
      "outputs": [],
      "source": [
        "#Veces que queremos repetir el experimento y agregarlo a una lista\n",
        "def simulacion(repet):\n",
        "    lista = []\n",
        "    for i in range(repet):\n",
        "        lista.append(np.mean(experimento(1000)))\n",
        "    return lista"
      ]
    },
    {
      "cell_type": "code",
      "execution_count": 12,
      "id": "d060db89",
      "metadata": {
        "id": "d060db89"
      },
      "outputs": [],
      "source": [
        "#Con repet=800 ya se veía una buena convergencia\n",
        "simul = simulacion(800)"
      ]
    },
    {
      "cell_type": "code",
      "execution_count": 13,
      "id": "cc0b958d",
      "metadata": {
        "id": "cc0b958d",
        "colab": {
          "base_uri": "https://localhost:8080/",
          "height": 472
        },
        "outputId": "0975e858-c982-403b-9cc9-3b4cb651f913"
      },
      "outputs": [
        {
          "output_type": "display_data",
          "data": {
            "text/plain": [
              "<Figure size 640x480 with 1 Axes>"
            ],
            "image/png": "[encoded data removed]"
          },
          "metadata": {}
        }
      ],
      "source": [
        "#Graficamos el historgrama\n",
        "plt.hist(simul,bins=50)\n",
        "plt.xlabel('iteraciones')\n",
        "plt.ylabel('p')\n",
        "plt.title('Probabilidad')\n",
        "plt.show()"
      ]
    },
    {
      "cell_type": "markdown",
      "id": "6e9bd469",
      "metadata": {
        "id": "6e9bd469"
      },
      "source": [
        "**PASO 9**. Calcule la probabilidad de interferencia"
      ]
    },
    {
      "cell_type": "code",
      "execution_count": 14,
      "id": "dbeb0461",
      "metadata": {
        "id": "dbeb0461",
        "colab": {
          "base_uri": "https://localhost:8080/"
        },
        "outputId": "9474639c-4a6c-4566-9f99-02c8fa46ad90"
      },
      "outputs": [
        {
          "output_type": "stream",
          "name": "stdout",
          "text": [
            "Media simulada:  0.55571625\n",
            "Varianza simulada:  0.00023748573593749918\n",
            "Desviación estandar simulada:  0.015410572213175577\n"
          ]
        }
      ],
      "source": [
        "print('Media simulada: ',np.mean(simul))\n",
        "print('Varianza simulada: ', np.var(simul))\n",
        "print('Desviación estandar simulada: ', np.std(simul))"
      ]
    },
    {
      "cell_type": "markdown",
      "id": "db8776d2",
      "metadata": {
        "id": "db8776d2"
      },
      "source": [
        "**PASO 10**. Halle el intervalo de confianza de la probabilidad de que haya interferencia con un nivel de confianza del $95 \\%$."
      ]
    },
    {
      "cell_type": "markdown",
      "source": [
        "El intervalo de confianza es.\n",
        "\n",
        "$$\\bar{x} \\pm z\\cdot \\frac{\\sigma}{\\sqrt{n}}$$"
      ],
      "metadata": {
        "id": "5vSMOwqmpDdd"
      },
      "id": "5vSMOwqmpDdd"
    },
    {
      "cell_type": "code",
      "execution_count": 15,
      "id": "e5132329",
      "metadata": {
        "id": "e5132329",
        "colab": {
          "base_uri": "https://localhost:8080/"
        },
        "outputId": "836bb81a-d0b6-416b-e3e9-c722b74c9872"
      },
      "outputs": [
        {
          "output_type": "stream",
          "name": "stdout",
          "text": [
            "Intervalo de confianza del 95%: (0.5521, 0.5590)\n"
          ]
        }
      ],
      "source": [
        "n = 800 #tamaño muestra\n",
        "z = 1.96  # para 95% de confianza\n",
        "sigma = 0.05\n",
        "#Calculo de la proba exacta\n",
        "media = 5/9\n",
        "\n",
        "# Intervalo de confianza\n",
        "limite_inferior = media - (z*sigma) / np.sqrt(n)\n",
        "limite_superior = media + (z*sigma) / np.sqrt(n)\n",
        "\n",
        "print(f\"Intervalo de confianza del 95%: ({limite_inferior:.4f}, {limite_superior:.4f})\")"
      ]
    },
    {
      "cell_type": "code",
      "source": [
        "# Histograma con líneas del intervalo de confianza y en medio la media\n",
        "plt.hist(simul, bins=80)\n",
        "plt.axvline(limite_inferior, color='red', linestyle='--')\n",
        "plt.axvline(limite_superior, color='red', linestyle='--')\n",
        "plt.axvline(media, color='green', linestyle='-', label='Media')\n",
        "plt.show()"
      ],
      "metadata": {
        "colab": {
          "base_uri": "https://localhost:8080/",
          "height": 430
        },
        "id": "NqwWA-fC1BzO",
        "outputId": "c999743f-3373-42fe-944e-29868cdf4a17"
      },
      "id": "NqwWA-fC1BzO",
      "execution_count": 16,
      "outputs": [
        {
          "output_type": "display_data",
          "data": {
            "text/plain": [
              "<Figure size 640x480 with 1 Axes>"
            ],
            "image/png": "[encoded data removed]"
          },
          "metadata": {}
        }
      ]
    }
  ],
  "metadata": {
    "kernelspec": {
      "display_name": "Python 3 (ipykernel)",
      "language": "python",
      "name": "python3"
    },
    "language_info": {
      "codemirror_mode": {
        "name": "ipython",
        "version": 3
      },
      "file_extension": ".py",
      "mimetype": "text/x-python",
      "name": "python",
      "nbconvert_exporter": "python",
      "pygments_lexer": "ipython3",
      "version": "3.7.3"
    },
    "colab": {
      "provenance": [],
      "include_colab_link": true
    }
  },
  "nbformat": 4,
  "nbformat_minor": 5
}