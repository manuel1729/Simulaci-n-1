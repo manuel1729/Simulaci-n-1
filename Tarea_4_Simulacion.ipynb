{
  "nbformat": 4,
  "nbformat_minor": 0,
  "metadata": {
    "colab": {
      "provenance": [],
      "authorship_tag": "ABX9TyMzUzdHa0PsmZMAcEdw2Jk0",
      "include_colab_link": true
    },
    "kernelspec": {
      "name": "python3",
      "display_name": "Python 3"
    },
    "language_info": {
      "name": "python"
    }
  },
  "cells": [
    {
      "cell_type": "markdown",
      "metadata": {
        "id": "view-in-github",
        "colab_type": "text"
      },
      "source": [
        "<a href=\"https://colab.research.google.com/github/manuel1729/Simulaci-n-1/blob/main/Tarea_4_Simulacion.ipynb\" target=\"_parent\"><img src=\"https://colab.research.google.com/assets/colab-badge.svg\" alt=\"Open In Colab\"/></a>"
      ]
    },
    {
      "cell_type": "markdown",
      "source": [
        "**PRUEBA DE CHI CUADRADA X^2**\n",
        "\n",
        "Gómez Cruz Manuel\n",
        "\n",
        "La prueba de chi-cuadrado es una herramienta estadística que se usa para comparar frecuencias observadas con las esperadas. Se utiliza para probar hipótesis sobre distribuciones de frecuencias.\n",
        "\n",
        "**Paso 1:** Agrupar los números aleatorios en k clases disjuntas de igual amplitud A.\n",
        "\n",
        "**Paso 2: ** Hallar la frecuencia de cada clase f_o\n",
        "\n",
        "**Paso 3: ** Halar el estadístico:\n",
        "X^2=sum_{i=0}^{k}(f_o-f_e)^2/f_e\n",
        "para n suficienemente grande sigue un estadístico sigue la distribución X^2 con k-1 gradosa de libertad\n",
        "\n",
        "**Paso 4: ** Determinar el grado crítico X^2_(aplha,k-1) de las tablas para un nivel de confianza (1-alpha) y k-1 grados de liberta si: X^2> X^2_(aplha,k-1)\n"
      ],
      "metadata": {
        "id": "lwoai4vOVA2B"
      }
    },
    {
      "cell_type": "code",
      "source": [
        "#Gómez Cruz Manuel\n",
        "import numpy as np\n",
        "from tabulate import tabulate\n",
        "from scipy.stats import chi2\n",
        "\n",
        "# Datos proporcionados\n",
        "lista = [\n",
        "    0.048, 0.591, 0.478, 0.166, 0.932,\n",
        "    0.926, 0.007, 0.551, 0.362, 0.533,\n",
        "    0.368, 0.437, 0.178, 0.411, 0.545,\n",
        "    0.787, 0.594, 0.086, 0.951, 0.772,\n",
        "    0.298, 0.199, 0.157, 0.401, 0.631\n",
        "]\n",
        "\n",
        "# Paso 1: Ordenar los datos\n",
        "acomodar = sorted(lista)\n",
        "\n",
        "# Paso 2: Calcular el número de clases automáticamente\n",
        "num_clases = int(np.sqrt(len(acomodar)))  # Raíz cuadrada del número de datos\n",
        "minimo, maximo = 0, 1  # Rango definido de 0 a 1\n",
        "ancho_clase = (maximo - minimo) / num_clases  # Calcular el ancho de cada clase\n",
        "\n",
        "# Generar intervalos de clase con el formato deseado\n",
        "clases = []\n",
        "for i in range(num_clases):\n",
        "    inicio = minimo + i * ancho_clase\n",
        "    fin = inicio + ancho_clase - 0.001  # Ajustar el límite superior\n",
        "    clases.append((inicio, fin))\n",
        "\n",
        "# Ajustar el último intervalo para que incluya el valor máximo\n",
        "clases[-1] = (clases[-1][0], maximo)\n",
        "\n",
        "frecuencias = [0] * num_clases  # Inicializar las frecuencias en cero\n",
        "\n",
        "# Paso 3: Contar las frecuencias observadas en cada clase\n",
        "for value in acomodar:\n",
        "    for i, (inicio, fin) in enumerate(clases):\n",
        "        if inicio <= value <= fin:  # Incluir el límite superior\n",
        "            frecuencias[i] += 1\n",
        "            break\n",
        "\n",
        "# Paso 4: Calcular las frecuencias esperadas\n",
        "frecuencia_total = len(acomodar)\n",
        "frecuencia_esperada = frecuencia_total / num_clases\n",
        "frecuencia_observada = [frecuencia_esperada] * num_clases\n",
        "\n",
        "# Paso 5: Calcular el estadístico de chi-cuadrada\n",
        "chi_cuadrada = sum([(obs - exp) ** 2 / exp for obs, exp in zip(frecuencias, frecuencia_observada)])\n",
        "\n",
        "# Paso 6: Valor crítico de chi-cuadrada (para df = num_clases - 1, α = 0.05)\n",
        "grados_libertad = num_clases - 1\n",
        "chi_squared_critical = chi2.ppf(0.95, grados_libertad)  # Valor crítico para α = 0.05\n",
        "\n",
        "# Crear tabla de resultados\n",
        "tabla = []\n",
        "for i, (inicio, fin) in enumerate(clases):\n",
        "    tabla.append([\n",
        "        f\"[{inicio:.3f}, {fin:.3f}]\",\n",
        "        frecuencias[i],\n",
        "        frecuencia_observada[i],\n",
        "        (frecuencias[i] - frecuencia_observada[i]) ** 2 / frecuencia_observada[i]\n",
        "    ])\n",
        "\n",
        "# Mostrar tabla con intervalos, frecuencias y chi-cuadrada\n",
        "print(tabulate(tabla, headers=[\"Intervalo\", \"Frecuencia Observada\", \"Frecuencia Esperada\", \"Chi-cuadrada\"], tablefmt=\"pretty\"))\n",
        "\n",
        "# Mostrar resultados finales\n",
        "print(f\"\\nValor de chi-cuadrada: {chi_cuadrada:.4f}\")\n",
        "print(f\"Valor crítico de chi-cuadrada: {chi_squared_critical:.4f}\")\n",
        "\n",
        "# Determinar si se rechaza la hipótesis nula\n",
        "if chi_cuadrada > chi_squared_critical:\n",
        "    print(\"El resultado es significativo, RECHAZAMOS la hipótesis nula.\")\n",
        "else:\n",
        "    print(\"El resultado no es significativo, NO rechazamos la hipótesis nula.\")"
      ],
      "metadata": {
        "colab": {
          "base_uri": "https://localhost:8080/"
        },
        "id": "thhVThHtkeaT",
        "outputId": "3d68a7f6-1afa-41b5-8692-08ff96880b49"
      },
      "execution_count": null,
      "outputs": [
        {
          "output_type": "stream",
          "name": "stdout",
          "text": [
            "+----------------+----------------------+---------------------+--------------+\n",
            "|   Intervalo    | Frecuencia Observada | Frecuencia Esperada | Chi-cuadrada |\n",
            "+----------------+----------------------+---------------------+--------------+\n",
            "| [0.000, 0.199] |          7           |         5.0         |     0.8      |\n",
            "| [0.200, 0.399] |          3           |         5.0         |     0.8      |\n",
            "| [0.400, 0.599] |          9           |         5.0         |     3.2      |\n",
            "| [0.600, 0.799] |          3           |         5.0         |     0.8      |\n",
            "| [0.800, 1.000] |          3           |         5.0         |     0.8      |\n",
            "+----------------+----------------------+---------------------+--------------+\n",
            "\n",
            "Valor de chi-cuadrada: 6.4000\n",
            "Valor crítico de chi-cuadrada: 9.4877\n",
            "El resultado no es significativo, NO rechazamos la hipótesis nula.\n"
          ]
        }
      ]
    }
  ]
}