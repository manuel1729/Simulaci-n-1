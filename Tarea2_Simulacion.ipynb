{
  "nbformat": 4,
  "nbformat_minor": 0,
  "metadata": {
    "colab": {
      "provenance": [],
      "authorship_tag": "ABX9TyN3XIpUcf2wxfBa1ux/Lkci",
      "include_colab_link": true
    },
    "kernelspec": {
      "name": "python3",
      "display_name": "Python 3"
    },
    "language_info": {
      "name": "python"
    }
  },
  "cells": [
    {
      "cell_type": "markdown",
      "metadata": {
        "id": "view-in-github",
        "colab_type": "text"
      },
      "source": [
        "<a href=\"https://colab.research.google.com/github/manuel1729/Simulaci-n-1/blob/main/Tarea2_Simulacion.ipynb\" target=\"_parent\"><img src=\"https://colab.research.google.com/assets/colab-badge.svg\" alt=\"Open In Colab\"/></a>"
      ]
    },
    {
      "cell_type": "markdown",
      "source": [
        "El **generador cuadrático medio** (Mid-Square Method)\n",
        "\n",
        "Es un algoritmo antiguo para generar números pseudoaleatorios. Fue propuesto por John von Neumann en 1946. Aunque no es muy eficiente ni produce secuencias de alta calidad.\n",
        "\n",
        "Proceso:\n",
        "1. **Selecciona una semilla**: Elige un número inicial (semilla) de  n dígitos.\n",
        "2. **Eleva al cuadrado**: Eleva la semilla al cuadrado.\n",
        "3. **Extrae el medio**: Del resultado, toma los n dígitos del medio.\n",
        "4. **Normaliza**: Si el número resultante tiene menos de  n  dígitos, añade ceros a la izquierda.\n",
        "5. **Repite**: Usa el número resultante como la nueva semilla y repite el proceso.\n",
        "\n",
        "Limitaciones:\n",
        "\n",
        "- Puede caer en ciclos cortos o converger a cero.\n",
        "- No es adecuado para aplicaciones que requieren alta aleatoriedad."
      ],
      "metadata": {
        "id": "ZOxI7piDYala"
      }
    },
    {
      "cell_type": "code",
      "execution_count": null,
      "metadata": {
        "id": "NwFzsyo-YX8x",
        "colab": {
          "base_uri": "https://localhost:8080/"
        },
        "outputId": "d00727e4-fa75-4262-b68d-39aea3f05db5"
      },
      "outputs": [
        {
          "output_type": "stream",
          "name": "stdout",
          "text": [
            "| Iteración | Semilla | Cuadrado      | Semilla Normalizada |\n",
            "|-----------|---------|---------------|---------------------|\n",
            "|    0      |  1111   |   01234321    |       0.1111        |\n",
            "|     1     |  2343   |   01234321    |       0.2343        |\n",
            "|     2     |  4896   |   05489649    |       0.4896        |\n",
            "|     3     |  9708   |   23970816    |       0.9708        |\n",
            "|     4     |  2452   |   94245264    |       0.2452        |\n",
            "|     5     |   123   |   06012304    |       0.0123        |\n",
            "|     6     |   151   |   00015129    |       0.0151        |\n",
            "|     7     |   228   |   00022801    |       0.0228        |\n",
            "|     8     |   519   |   00051984    |       0.0519        |\n",
            "|     9     |  2693   |   00269361    |       0.2693        |\n",
            "|    10     |  2522   |   07252249    |       0.2522        |\n",
            "|    11     |  3604   |   06360484    |       0.3604        |\n",
            "|    12     |  9888   |   12988816    |       0.9888        |\n",
            "|    13     |  7725   |   97772544    |       0.7725        |\n",
            "|    14     |  6756   |   59675625    |       0.6756        |\n",
            "|    15     |  6435   |   45643536    |       0.6435        |\n",
            "|    16     |  4092   |   41409225    |       0.4092        |\n",
            "|    17     |  7444   |   16744464    |       0.7444        |\n",
            "|    18     |  4131   |   55413136    |       0.4131        |\n",
            "|    19     |   651   |   17065161    |       0.0651        |\n",
            "|    20     |  4238   |   00423801    |       0.4238        |\n",
            "|    21     |  9606   |   17960644    |       0.9606        |\n",
            "|    22     |  2752   |   92275236    |       0.2752        |\n",
            "|    23     |  5735   |   07573504    |       0.5735        |\n",
            "|    24     |  8902   |   32890225    |       0.8902        |\n",
            "|    25     |  2456   |   79245604    |       0.2456        |\n",
            "|    26     |   319   |   06031936    |       0.0319        |\n",
            "|    27     |  1017   |   00101761    |       0.1017        |\n",
            "|    28     |   342   |   01034289    |       0.0342        |\n",
            "|    29     |  1169   |   00116964    |       0.1169        |\n",
            "|    30     |  3665   |   01366561    |       0.3665        |\n",
            "|    31     |  4322   |   13432225    |       0.4322        |\n",
            "|    32     |  6796   |   18679684    |       0.6796        |\n",
            "|    33     |  1856   |   46185616    |       0.1856        |\n",
            "|    34     |  4447   |   03444736    |       0.4447        |\n",
            "|    35     |  7758   |   19775809    |       0.7758        |\n",
            "|    36     |  1865   |   60186564    |       0.1865        |\n",
            "|    37     |  4782   |   03478225    |       0.4782        |\n",
            "|    38     |  8675   |   22867524    |       0.8675        |\n",
            "|    39     |  2556   |   75255625    |       0.2556        |\n",
            "|    40     |  5331   |   06533136    |       0.5331        |\n",
            "|    41     |  4195   |   28419561    |       0.4195        |\n",
            "|    42     |  5980   |   17598025    |       0.5980        |\n",
            "|    43     |  7604   |   35760400    |       0.7604        |\n",
            "|    44     |  8208   |   57820816    |       0.8208        |\n",
            "|    45     |  3712   |   67371264    |       0.3712        |\n",
            "|    46     |  7789   |   13778944    |       0.7789        |\n",
            "|    47     |  6685   |   60668521    |       0.6685        |\n",
            "|    48     |  6892   |   44689225    |       0.6892        |\n",
            "|    49     |  4996   |   47499664    |       0.4996        |\n",
            "|    50     |  9600   |   24960016    |       0.9600        |\n",
            "|    51     |  1600   |   92160000    |       0.1600        |\n",
            "|    52     |  5600   |   02560000    |       0.5600        |\n",
            "|    53     |  3600   |   31360000    |       0.3600        |\n",
            "|    54     |  9600   |   12960000    |       0.9600        |\n",
            "\n",
            "¡La semilla degeneró en la iteración 55!\n"
          ]
        }
      ],
      "source": [
        "#Gomez Cruz Manuel\n",
        "def cuadrados_medios(semilla, n, iteraciones):\n",
        "    resultados = []\n",
        "    historial_semillas = []  # Para almacenar el historial de semillas\n",
        "    historial_cuadrados = []  # Para almacenar los cuadrados\n",
        "    degenerado = False\n",
        "    iteracion_degeneracion = None\n",
        "\n",
        "    # Encabezado de la tabla\n",
        "    print(\"| Iteración | Semilla | Cuadrado      | Semilla Normalizada |\")\n",
        "    print(\"|-----------|---------|---------------|---------------------|\")\n",
        "\n",
        "    # Mostrar la semilla inicial y su cuadrado\n",
        "    cuadrado_inicial = semilla ** 2\n",
        "    cuadrado_inicial_str = str(cuadrado_inicial).zfill(2 * n)\n",
        "    semilla_normalizada = semilla / (10 ** n)\n",
        "    print(f\"|    0      | {semilla:^7} | {cuadrado_inicial_str:^13} | {semilla_normalizada:^19.4f} |\")\n",
        "\n",
        "    for i in range(iteraciones):\n",
        "        if semilla in historial_semillas:\n",
        "            degenerado = True\n",
        "            iteracion_degeneracion = i + 1\n",
        "            break  # Detener el bucle si se detecta un ciclo\n",
        "\n",
        "        historial_semillas.append(semilla)  # Guardar la semilla actual en el historial\n",
        "        cuadrado = semilla ** 2\n",
        "        historial_cuadrados.append(cuadrado)\n",
        "        cuadrado_str = str(cuadrado).zfill(2 * n)  # Rellenar con ceros a la izquierda\n",
        "        medio = len(cuadrado_str) // 2\n",
        "        semilla = int(cuadrado_str[medio - n//2 : medio + n//2])\n",
        "        semilla_normalizada = semilla / (10 ** n)\n",
        "        resultados.append(semilla)\n",
        "\n",
        "        # Imprimir fila de la tabla\n",
        "        print(f\"| {i + 1:^9} | {semilla:^7} | {cuadrado_str:^13} | {semilla_normalizada:^19.4f} |\")\n",
        "\n",
        "    if degenerado:\n",
        "        print(f\"\\n¡La semilla degeneró en la iteración {iteracion_degeneracion}!\")\n",
        "    else:\n",
        "        print(\"\\nLa semilla no degeneró durante las iteraciones.\")\n",
        "\n",
        "    return resultados, historial_semillas, historial_cuadrados\n",
        "\n",
        "# Parámetros\n",
        "semilla_inicial = 1111  # Semilla de 4 dígitos\n",
        "n = 4  # Número de dígitos de la semilla\n",
        "iteraciones = 100  # Número de números pseudoaleatorios a generar\n",
        "\n",
        "# Generar números pseudoaleatorios y mostrar la tabla\n",
        "numeros_aleatorios, historial_semillas, historial_cuadrados = cuadrados_medios(semilla_inicial, n, iteraciones)"
      ]
    }
  ]
}