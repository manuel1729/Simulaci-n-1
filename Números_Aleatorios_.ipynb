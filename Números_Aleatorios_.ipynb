{
  "nbformat": 4,
  "nbformat_minor": 0,
  "metadata": {
    "colab": {
      "provenance": [],
      "authorship_tag": "ABX9TyMwLK5xw1hD7+P4+n5yXo/Q",
      "include_colab_link": true
    },
    "kernelspec": {
      "name": "python3",
      "display_name": "Python 3"
    },
    "language_info": {
      "name": "python"
    }
  },
  "cells": [
    {
      "cell_type": "markdown",
      "metadata": {
        "id": "view-in-github",
        "colab_type": "text"
      },
      "source": [
        "<a href=\"https://colab.research.google.com/github/manuel1729/Simulaci-n-1/blob/main/N%C3%BAmeros_Aleatorios_.ipynb\" target=\"_parent\"><img src=\"https://colab.research.google.com/assets/colab-badge.svg\" alt=\"Open In Colab\"/></a>"
      ]
    },
    {
      "cell_type": "code",
      "execution_count": 1,
      "metadata": {
        "colab": {
          "base_uri": "https://localhost:8080/"
        },
        "id": "lr9XuAPY6_LI",
        "outputId": "d5857bf7-bb4f-4402-80d7-6e54a5ada726"
      },
      "outputs": [
        {
          "output_type": "stream",
          "name": "stdout",
          "text": [
            "  i    x_i    x_[i+1]\n",
            "---  -----  ---------\n",
            "  0      3  0.181818\n",
            "  1      4  0.227273\n",
            "  2      5  0.272727\n",
            "  3      6  0.318182\n",
            "  4      7  0.363636\n",
            "  5      8  0.409091\n",
            "  6      9  0.454545\n",
            "  7     10  0.5\n",
            "  8     11  0.545455\n",
            "  9     12  0.590909\n",
            " 10     13  0.636364\n",
            " 11     14  0.681818\n",
            " 12     15  0.727273\n",
            " 13     16  0.772727\n",
            " 14     17  0.818182\n",
            " 15     18  0.863636\n",
            " 16     19  0.909091\n",
            " 17     20  0.954545\n",
            " 18     21  0\n",
            " 19      0  0.0454545\n",
            " 20      1  0.0909091\n",
            " 21      2  0.136364\n",
            " 22      3  0.181818\n"
          ]
        }
      ],
      "source": [
        "#Manuel Gomez Cruz\n",
        "#X_n+1=(aX_n+c) mod m\n",
        "import tabulate\n",
        "a=45\n",
        "c=45\n",
        "m=22\n",
        "x0=3\n",
        "\n",
        "def generador(a,c,m,x0):\n",
        "    x=(a*x0+c)% m\n",
        "    return x\n",
        "muestra=[]\n",
        "for i in range(23):\n",
        "  nuevo=generador(a,c,m,x0)\n",
        "  muestra.append([i,x0,nuevo/m])\n",
        "  x0=nuevo\n",
        "\n",
        "encabezados=[\"i\",\"x_i\",\"x_[i+1]\"]\n",
        "print(tabulate.tabulate(muestra,headers=encabezados))"
      ]
    }
  ]
}