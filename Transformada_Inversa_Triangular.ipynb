{
  "nbformat": 4,
  "nbformat_minor": 0,
  "metadata": {
    "colab": {
      "provenance": [],
      "authorship_tag": "ABX9TyPLU4F5djxdUi6AsnuhXXj6",
      "include_colab_link": true
    },
    "kernelspec": {
      "name": "python3",
      "display_name": "Python 3"
    },
    "language_info": {
      "name": "python"
    }
  },
  "cells": [
    {
      "cell_type": "markdown",
      "metadata": {
        "id": "view-in-github",
        "colab_type": "text"
      },
      "source": [
        "<a href=\"https://colab.research.google.com/github/manuel1729/Simulaci-n-1/blob/main/Transformada_Inversa_Triangular.ipynb\" target=\"_parent\"><img src=\"https://colab.research.google.com/assets/colab-badge.svg\" alt=\"Open In Colab\"/></a>"
      ]
    },
    {
      "cell_type": "markdown",
      "source": [
        "Gómez Cruz Manuel\n",
        "\n",
        "**MÉTODO DE LA TRANSFORMADA INVERSA**\n",
        "\n",
        "Pasos:\n",
        "\n",
        "1) Dado f(x), calculamos $F(x)=∫_{-∞}^{x}f(t)dt$\n",
        "\n",
        "2)Suponer R~(0,1) y resolver $F(x)=R$ $\\quad$ para obtener $\\quad$ $x=F^{-1}(R)$"
      ],
      "metadata": {
        "id": "-pULH4OormxL"
      }
    },
    {
      "cell_type": "markdown",
      "source": [
        "**DISTRIBUCIÓN TRIANGULAR**\n",
        "\n",
        "$f(x)=\\left\\{\\begin{array}{lc} \\frac{2}{(c-a)(b-a)}(x-a) & a\\leq x \\leq b\\\\ \\frac{2}{(c-a)(b-c)}(x-c) & b\\leq x\\leq c \\end{array}\\right.$\n",
        "\n",
        "Tomando a=1 b=3 c=5\n",
        "\n",
        "$f(x)=\\left\\{\\begin{array}{lc} \\frac{1}{4}(x-1) & 1\\leq x \\leq 3\\\\ -\\frac{1}{4}(x-5) & 3\\leq x\\leq 5 \\end{array}\\right.$\n"
      ],
      "metadata": {
        "id": "_-wH_K8ytGEP"
      }
    },
    {
      "cell_type": "markdown",
      "source": [
        "Su distribución acumulada\n",
        "\n",
        "Paso 1:\n",
        "\n",
        "1) $F(x)=\\int_{-\\infty}^x f(y)dy = \\left\\{\\begin{array}{lc} \\frac{(x-a)^2}{(c-a)(b-a)} & a\\leq x \\leq b \\\\ 1+\\frac{(x-c)^2}{(c-a)(b-c)} & b\\leq x\\leq c \\end{array}\\right.$\n",
        "\n",
        "Paso 2:\n",
        "\n",
        "2)Suponemos R~(0,1) y resolvemos R=f(x) para obtener $x=F^{-1}(R)$\n",
        "\n",
        "En este caso:\n",
        "\n",
        "$x=\\left\\{\\begin{array}{lc} \\sqrt{R(c-a)(b-a)}+a & a\\leq x \\leq b \\\\c- \\sqrt{(R-1)(c-a)(b-c)} & b\\leq x\\leq c \\end{array}\\right.$\n"
      ],
      "metadata": {
        "id": "f2Ab-kcKw2R8"
      }
    },
    {
      "cell_type": "code",
      "execution_count": null,
      "metadata": {
        "id": "dheoGg9irAnb"
      },
      "outputs": [],
      "source": [
        "#Librerías\n",
        "import numpy as np\n",
        "import matplotlib.pyplot as plt\n",
        "import random as rd\n",
        "import math"
      ]
    },
    {
      "cell_type": "code",
      "source": [
        "#Valores de distribución\n",
        "a=1\n",
        "b=3\n",
        "c=5"
      ],
      "metadata": {
        "id": "Riv6mOW6rDio"
      },
      "execution_count": null,
      "outputs": []
    },
    {
      "cell_type": "code",
      "source": [
        "#Guardamos en lista cada valor que se genere y comparar los R\n",
        "def inversa(n):\n",
        "  x=[]\n",
        "  for i in range(n):\n",
        "    R=rd.random()\n",
        "    if R<((b-a)/(c-a)):\n",
        "      x.append(math.sqrt(R*(c-a)*(b-a))+a)\n",
        "    else:\n",
        "      x.append(-math.sqrt((R-1)*(c-a)*(b-c))+c)\n",
        "  return x"
      ],
      "metadata": {
        "id": "AqvonXmSrLlr"
      },
      "execution_count": null,
      "outputs": []
    },
    {
      "cell_type": "code",
      "source": [
        "#Prueba con n=10000\n",
        "exp1 = inversa(10000)"
      ],
      "metadata": {
        "id": "b-nE7XuOrPHL"
      },
      "execution_count": null,
      "outputs": []
    },
    {
      "cell_type": "code",
      "source": [
        "#Mostramos el histograma\n",
        "plt.hist(exp1, bins=50)\n",
        "plt.show()"
      ],
      "metadata": {
        "colab": {
          "base_uri": "https://localhost:8080/",
          "height": 274
        },
        "id": "T-CVME8Krd1W",
        "outputId": "28030501-917b-4c5e-c1f7-70da9fae8d10"
      },
      "execution_count": null,
      "outputs": [
        {
          "output_type": "display_data",
          "data": {
            "text/plain": [
              "<Figure size 640x480 with 1 Axes>"
            ],
            "image/png": "[encoded data removed]"
          },
          "metadata": {}
        }
      ]
    },
    {
      "cell_type": "code",
      "source": [
        "#MOstramos media, desviación aproximada del experimento\n",
        "print(\"Media aprox: \",np.mean(exp1))\n",
        "print(\"Varianza aprox: \",np.var(exp1))\n",
        "print(\"Desviación: \",np.std(exp1))"
      ],
      "metadata": {
        "colab": {
          "base_uri": "https://localhost:8080/"
        },
        "id": "EDceBJnCzen6",
        "outputId": "151dd747-949a-4e01-b23a-cf94470abc16"
      },
      "execution_count": null,
      "outputs": [
        {
          "output_type": "stream",
          "name": "stdout",
          "text": [
            "Media aprox:  3.0128868522576933\n",
            "Varianza aprox:  0.6681156957136775\n",
            "Desviación:  0.8173834447269394\n"
          ]
        }
      ]
    },
    {
      "cell_type": "code",
      "source": [
        "#Calculo de media, varianza y deviación analítica\n",
        "#Librería para integrar\n",
        "from scipy.integrate import quad"
      ],
      "metadata": {
        "id": "oMym-6Ew0Pcn"
      },
      "execution_count": null,
      "outputs": []
    },
    {
      "cell_type": "code",
      "source": [
        "#Distribución triangular\n",
        "def f(x, a, b, c):\n",
        "    if a<=x<=b:\n",
        "        return 2*(x-a)/((b-a)*(c-a))\n",
        "    elif b<x<=c:\n",
        "        return 2*(x-c)/((b-c)*(c-a))"
      ],
      "metadata": {
        "id": "rkFddPAY0dKf"
      },
      "execution_count": null,
      "outputs": []
    },
    {
      "cell_type": "code",
      "source": [
        "def media(f, a, b, c):\n",
        "    media_val, _ = quad(lambda x: x * f(x, a, b, c), a, c)\n",
        "    return media_val\n",
        "\n",
        "def varianza(f, a, b, c):\n",
        "    ex2, _ = quad(lambda x: x**2 * f(x, a, b, c), a, c)\n",
        "    var_val = ex2 - media(f, a, b, c)**2\n",
        "    return var_val"
      ],
      "metadata": {
        "id": "8scPmvfe0wmr"
      },
      "execution_count": null,
      "outputs": []
    },
    {
      "cell_type": "code",
      "source": [
        "media_exac=media(f, a, b, c)\n",
        "varianza_exac=varianza(f, a, b, c)\n",
        "\n",
        "print(\"Media exacta: \",media_exac)\n",
        "print(\"Varianza exacta: \", varianza_exac)\n",
        "print(\"Desviación exacta: \",varianza_exac**(1/2))"
      ],
      "metadata": {
        "colab": {
          "base_uri": "https://localhost:8080/"
        },
        "id": "gitClMxw1Rwr",
        "outputId": "149c3a64-a5ad-4862-cb3f-75ed77f20ccc"
      },
      "execution_count": null,
      "outputs": [
        {
          "output_type": "stream",
          "name": "stdout",
          "text": [
            "Media exacta:  3.0\n",
            "Varianza exacta:  0.6666666666666661\n",
            "Desviación exacta:  0.8164965809277257\n"
          ]
        }
      ]
    }
  ]
}