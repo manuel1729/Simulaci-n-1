{
  "nbformat": 4,
  "nbformat_minor": 0,
  "metadata": {
    "colab": {
      "provenance": [],
      "authorship_tag": "ABX9TyOfjpLzpCw1L8SyTFshxRiP",
      "include_colab_link": true
    },
    "kernelspec": {
      "name": "python3",
      "display_name": "Python 3"
    },
    "language_info": {
      "name": "python"
    }
  },
  "cells": [
    {
      "cell_type": "markdown",
      "metadata": {
        "id": "view-in-github",
        "colab_type": "text"
      },
      "source": [
        "<a href=\"https://colab.research.google.com/github/manuel1729/Simulaci-n-1/blob/main/Tarea_5_Simulacion.ipynb\" target=\"_parent\"><img src=\"https://colab.research.google.com/assets/colab-badge.svg\" alt=\"Open In Colab\"/></a>"
      ]
    },
    {
      "cell_type": "markdown",
      "source": [
        "# PRUEBA DE RACHAS (CORRIDAS)\n",
        "**Gómez Cruz Manuel**\n",
        "\n",
        "**Paso 1:**\n",
        "Determinar una secuencia S de unos y ceros:\n",
        "\n",
        "generando un 0 si x_i<x_{i-1}\n",
        "\n",
        "generando un 1 si x_i>=x_{i-1}\n",
        "\n",
        "Donde S tiene n-1 términos.\n",
        "\n",
        "**Paso 2:**\n",
        "Halle el número de corridas (rachas) observadas C_0. Una racha dada por grupos de \"1\"y \"0\" consecutivos.\n",
        "\n",
        "**Paso 3:**\n",
        "Calcule el valor esperado y la varianza del número de corridas como Z_0:\n",
        "\n",
        "mu=(2n-1)/(3), sigma**2=(16n-29)/90, Z_0=(C_0-mu)/sigma\n",
        "\n",
        "Por último calculamos el intervalo de aceptación:\n",
        "-Z_(alpha/2)<=Z_0<=Z_(alpha/2)"
      ],
      "metadata": {
        "id": "yyp7vE9I-qO3"
      }
    },
    {
      "cell_type": "code",
      "source": [
        "#Gómez Cruz Manuel\n",
        "import math\n",
        "from scipy.stats import norm\n",
        "from tabulate import tabulate\n",
        "\n",
        "# Lista de valores x_i\n",
        "\n",
        "lista = [0.048, .926, .368, .787, .298, .591, .007, .437, .594, .199, .478, .551, .178,\n",
        "         .086, .157, .166, .362, .411, .951, .401, .932, .533, .545, .772, .631\n",
        "]\n",
        "\n",
        "# Generamos la secuencia de rachas.\n",
        "S = []\n",
        "for i in range(len(lista) - 1):\n",
        "    if lista[i] < lista[i + 1]:\n",
        "        S.append(1)\n",
        "    else:\n",
        "        S.append(0)\n",
        "\n",
        "# Contamos el número de rachas.\n",
        "c0 = 1  # Siempre hay al menos una racha.\n",
        "for i in range(1, len(S)):\n",
        "    if S[i - 1] != S[i]:\n",
        "        c0 += 1\n",
        "\n",
        "# Creamos la tabla.\n",
        "tabla = []\n",
        "tabla.append([lista[0], \"-\"])  # El primer valor no tiene racha asignada.\n",
        "for i in range(len(S)):\n",
        "    tabla.append([lista[i + 1], S[i]])  # Empieza desde el segundo valor.\n",
        "\n",
        "# Mostramos la tabla.\n",
        "print(tabulate(tabla, headers=[\"x_i\", \"Racha (1 o 0)\"], tablefmt=\"pretty\"))\n",
        "\n",
        "print(\"Secuencia de rachas:\", S)\n",
        "print(\"Número de rachas:\", c0)\n",
        "\n",
        "# Prueba de hipótesis.\n",
        "n = len(lista)\n",
        "mu = (2 * n - 1) / 3\n",
        "Var = (16 * n - 29) / 90\n",
        "Z = (c0 - mu) / math.sqrt(Var)\n",
        "alpha = 0.05\n",
        "Z_critico = norm.ppf(1 - alpha / 2)  # Aproximadamente 1.96\n",
        "\n",
        "print(f\"Estadístico Z: \",Z)\n",
        "print(f\"Valor crítico: \", Z_critico)\n",
        "\n",
        "if abs(Z) > Z_critico:\n",
        "    print(\"Se rechaza la hipótesis de aleatoriedad (x_i no son independientes).\")\n",
        "else:\n",
        "    print(\"No se rechaza la hipótesis de aleatoriedad ((x_i son independientes)).\")\n"
      ],
      "metadata": {
        "colab": {
          "base_uri": "https://localhost:8080/"
        },
        "id": "T7xKdcdTcLo8",
        "outputId": "51cf2f28-c72f-41aa-9075-193ff83cf7ea"
      },
      "execution_count": 5,
      "outputs": [
        {
          "output_type": "stream",
          "name": "stdout",
          "text": [
            "+-------+---------------+\n",
            "|  x_i  | Racha (1 o 0) |\n",
            "+-------+---------------+\n",
            "| 0.048 |       -       |\n",
            "| 0.926 |       1       |\n",
            "| 0.368 |       0       |\n",
            "| 0.787 |       1       |\n",
            "| 0.298 |       0       |\n",
            "| 0.591 |       1       |\n",
            "| 0.007 |       0       |\n",
            "| 0.437 |       1       |\n",
            "| 0.594 |       1       |\n",
            "| 0.199 |       0       |\n",
            "| 0.478 |       1       |\n",
            "| 0.551 |       1       |\n",
            "| 0.178 |       0       |\n",
            "| 0.086 |       0       |\n",
            "| 0.157 |       1       |\n",
            "| 0.166 |       1       |\n",
            "| 0.362 |       1       |\n",
            "| 0.411 |       1       |\n",
            "| 0.951 |       1       |\n",
            "| 0.401 |       0       |\n",
            "| 0.932 |       1       |\n",
            "| 0.533 |       0       |\n",
            "| 0.545 |       1       |\n",
            "| 0.772 |       1       |\n",
            "| 0.631 |       0       |\n",
            "+-------+---------------+\n",
            "Secuencia de rachas: [1, 0, 1, 0, 1, 0, 1, 1, 0, 1, 1, 0, 0, 1, 1, 1, 1, 1, 0, 1, 0, 1, 1, 0]\n",
            "Número de rachas: 16\n",
            "Estadístico Z:  -0.16417727582577904\n",
            "Valor crítico:  1.959963984540054\n",
            "No se rechaza la hipótesis de aleatoriedad ((x_i son independientes)).\n"
          ]
        }
      ]
    }
  ]
}