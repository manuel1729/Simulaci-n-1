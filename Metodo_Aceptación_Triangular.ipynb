{
  "nbformat": 4,
  "nbformat_minor": 0,
  "metadata": {
    "colab": {
      "provenance": [],
      "authorship_tag": "ABX9TyMfNOeyZUNR7tUEIb7jRCps",
      "include_colab_link": true
    },
    "kernelspec": {
      "name": "python3",
      "display_name": "Python 3"
    },
    "language_info": {
      "name": "python"
    }
  },
  "cells": [
    {
      "cell_type": "markdown",
      "metadata": {
        "id": "view-in-github",
        "colab_type": "text"
      },
      "source": [
        "<a href=\"https://colab.research.google.com/github/manuel1729/Simulaci-n-1/blob/main/Metodo_Aceptaci%C3%B3n_Triangular.ipynb\" target=\"_parent\"><img src=\"https://colab.research.google.com/assets/colab-badge.svg\" alt=\"Open In Colab\"/></a>"
      ]
    },
    {
      "cell_type": "markdown",
      "source": [
        "Gómez Cruz Manuel\n",
        "\n",
        "**MÉTODO DE ACEPTACIÓN Y RECHAZO**\n",
        "\n",
        "Es una técnica utilizada para generar números aleatorios a partir de una distribución de probabilidad arbitraria f(x), especialmente cuando no se puede muestrear directamente de ella.\n",
        "\n",
        "Pasos:\n",
        "\n",
        "1) Generar dos números aleatorios $R_1$ y $R_2$."
      ],
      "metadata": {
        "id": "k9fbTcytH-j7"
      }
    },
    {
      "cell_type": "markdown",
      "source": [
        "2) Determinar x: ** $x=a+ (b-a)\\cdot R_1$ **"
      ],
      "metadata": {
        "id": "qxPsRh04KLXC"
      }
    },
    {
      "cell_type": "markdown",
      "source": [
        "3) Evaluar en f en x"
      ],
      "metadata": {
        "id": "YSwTIqTUKw_m"
      }
    },
    {
      "cell_type": "markdown",
      "source": [
        "4) Si $\\quad R_2\\leq \\frac{f(x)}{M} \\quad$ aceptar x\n",
        "\n",
        "Otro caso: Rechazar"
      ],
      "metadata": {
        "id": "m3pLuTypK2Lq"
      }
    },
    {
      "cell_type": "markdown",
      "source": [
        "\n",
        "**Distribución triangular**\n",
        "\n",
        "$f(x)=\\left\\{\\begin{array}{lc} \\frac{2}{(c-a)(b-a)}(x-a) & a\\leq x \\leq b\\\\ \\frac{2}{(c-a)(b-c)}(x-c) & b\\leq x\\leq c \\end{array}\\right.$\n",
        "\n",
        "Tomando a=1 b=3 c=5\n",
        "\n",
        "$f(x)=\\left\\{\\begin{array}{lc} \\frac{1}{4}(x-1) & 1\\leq x \\leq 3\\\\ -\\frac{1}{4}(x-5) & 3\\leq x\\leq 5 \\end{array}\\right.$"
      ],
      "metadata": {
        "id": "KKsW5KWAJ66I"
      }
    },
    {
      "cell_type": "code",
      "source": [
        "#Importamos librerías\n",
        "import random as rd\n",
        "import matplotlib.pyplot as plt\n",
        "import numpy as np"
      ],
      "metadata": {
        "id": "iZQek02KDZK-"
      },
      "execution_count": 2,
      "outputs": []
    },
    {
      "cell_type": "code",
      "source": [
        "#Valores de nuestra función\n",
        "a=1\n",
        "b=3\n",
        "c=5\n",
        "M=2/(c-a)"
      ],
      "metadata": {
        "id": "W6g_HapUCz2G"
      },
      "execution_count": 10,
      "outputs": []
    },
    {
      "cell_type": "code",
      "source": [
        "#Función arbitraria de función tringular\n",
        "def f(x):\n",
        "    if a<=x<=b:\n",
        "        return 2*(x-a)/((b-a)*(c-a))\n",
        "    elif b<x<=c:\n",
        "        return 2*(x-c)/((b-c)*(c-a))"
      ],
      "metadata": {
        "id": "g-aVpN5iC-Un"
      },
      "execution_count": 11,
      "outputs": []
    },
    {
      "cell_type": "code",
      "source": [
        "#Implementamos n veces el método de aceptación y guardamos en lista\n",
        "def aceptacion(n):\n",
        "  lista=[]\n",
        "  for _ in range(n):\n",
        "    R1=rd.random()\n",
        "    R2=rd.random()\n",
        "    x=a+(c-a)*R1 #Cambiamos b por c profe porque es el extremo derecho del intervalo\n",
        "    if R2<=f(x)/M:\n",
        "      lista.append(x)\n",
        "  return lista"
      ],
      "metadata": {
        "id": "LuIF3fPMDBY-"
      },
      "execution_count": 15,
      "outputs": []
    },
    {
      "cell_type": "code",
      "source": [
        "#Prueba de n=50000\n",
        "H=aceptacion(50000)"
      ],
      "metadata": {
        "id": "6TxS5Z-5DIxV"
      },
      "execution_count": 16,
      "outputs": []
    },
    {
      "cell_type": "code",
      "source": [
        "#Histograma de h\n",
        "plt.hist(H,bins=50)\n",
        "plt.show()"
      ],
      "metadata": {
        "colab": {
          "base_uri": "https://localhost:8080/",
          "height": 430
        },
        "id": "Xy_eAncRDNn_",
        "outputId": "081a0a7e-e372-4d60-9965-5f150967f4df"
      },
      "execution_count": 17,
      "outputs": [
        {
          "output_type": "display_data",
          "data": {
            "text/plain": [
              "<Figure size 640x480 with 1 Axes>"
            ],
            "image/png": "[encoded data removed]"
          },
          "metadata": {}
        }
      ]
    },
    {
      "cell_type": "code",
      "source": [
        "print(\"Media aprox: \",np.mean(H))\n",
        "print(\"Varianza aprox: \", np.var(H))\n",
        "print(\"Desviacion estandar aprox: \", np.std(H))"
      ],
      "metadata": {
        "id": "uXmEi_fHDjO7",
        "colab": {
          "base_uri": "https://localhost:8080/"
        },
        "outputId": "15a1a2db-5825-402e-ee85-80d2ef455649"
      },
      "execution_count": 18,
      "outputs": [
        {
          "output_type": "stream",
          "name": "stdout",
          "text": [
            "Media aprox:  3.000949830300854\n",
            "Varianza aprox:  0.6581841310715446\n",
            "Desviacion estandar aprox:  0.8112854806241417\n"
          ]
        }
      ]
    },
    {
      "cell_type": "code",
      "source": [
        "#Calculo de media, varianza y deviación analítica\n",
        "#Librería para integrar\n",
        "from scipy.integrate import quad"
      ],
      "metadata": {
        "id": "OzKF1L-BSF78"
      },
      "execution_count": 19,
      "outputs": []
    },
    {
      "cell_type": "code",
      "source": [
        "#Distribución triangular\n",
        "def f(x, a, b, c):\n",
        "    if a<=x<=b:\n",
        "        return 2*(x-a)/((b-a)*(c-a))\n",
        "    elif b<x<=c:\n",
        "        return 2*(x-c)/((b-c)*(c-a))"
      ],
      "metadata": {
        "id": "dkwMErkqSHHs"
      },
      "execution_count": 20,
      "outputs": []
    },
    {
      "cell_type": "code",
      "source": [
        "def media(f, a, b, c):\n",
        "    media_val, _ = quad(lambda x: x * f(x, a, b, c), a, c)\n",
        "    return media_val\n",
        "\n",
        "def varianza(f, a, b, c):\n",
        "    ex2, _ = quad(lambda x: x**2 * f(x, a, b, c), a, c)\n",
        "    var_val = ex2 - media(f, a, b, c)**2\n",
        "    return var_val"
      ],
      "metadata": {
        "id": "5ZSuHhU5SKY0"
      },
      "execution_count": 21,
      "outputs": []
    },
    {
      "cell_type": "code",
      "source": [
        "media_exac=media(f, a, b, c)\n",
        "varianza_exac=varianza(f, a, b, c)\n",
        "\n",
        "print(\"Media exacta: \",media_exac)\n",
        "print(\"Varianza exacta: \", varianza_exac)\n",
        "print(\"Desviación exacta: \",varianza_exac**(1/2))"
      ],
      "metadata": {
        "colab": {
          "base_uri": "https://localhost:8080/"
        },
        "id": "rd1d4xvpSPOe",
        "outputId": "14671eeb-6434-4559-9a07-9e378eeeee15"
      },
      "execution_count": 22,
      "outputs": [
        {
          "output_type": "stream",
          "name": "stdout",
          "text": [
            "Media exacta:  3.0\n",
            "Varianza exacta:  0.6666666666666661\n",
            "Desviación exacta:  0.8164965809277257\n"
          ]
        }
      ]
    }
  ]
}