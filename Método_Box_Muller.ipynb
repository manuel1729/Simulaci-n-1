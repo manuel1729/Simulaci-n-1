{
  "nbformat": 4,
  "nbformat_minor": 0,
  "metadata": {
    "colab": {
      "provenance": [],
      "include_colab_link": true
    },
    "kernelspec": {
      "name": "python3",
      "display_name": "Python 3"
    },
    "language_info": {
      "name": "python"
    }
  },
  "cells": [
    {
      "cell_type": "markdown",
      "metadata": {
        "id": "view-in-github",
        "colab_type": "text"
      },
      "source": [
        "<a href=\"https://colab.research.google.com/github/manuel1729/Simulaci-n-1/blob/main/M%C3%A9todo_Box_Muller.ipynb\" target=\"_parent\"><img src=\"https://colab.research.google.com/assets/colab-badge.svg\" alt=\"Open In Colab\"/></a>"
      ]
    },
    {
      "cell_type": "markdown",
      "source": [
        "** MÉTODO BOX-MULLER **\n",
        "\n",
        "Artículo Box y Muller (1958)\n",
        "\n",
        "Gómez Cruz Manuel"
      ],
      "metadata": {
        "id": "X_3De7JvAk91"
      }
    },
    {
      "cell_type": "markdown",
      "source": [
        "Generar $U_1$,$U_2$~$U(0,1)$\n",
        "\n",
        "Hacer $R=\\sqrt{-2ln(U_1)}$, $\\quad θ=πU_2$\n",
        "\n",
        "Hacer $X=Rcos(\\theta)$, $X=Rsen(\\theta)$\n",
        "\n",
        "Salir X,Y"
      ],
      "metadata": {
        "id": "HjrSSJ-8BH-_"
      }
    },
    {
      "cell_type": "markdown",
      "source": [
        "**Método desarrollado de Box-Muller (Artículo)**\n",
        "\n",
        "Puede utilizarse para generar un par de desviaciones aleatorias a partir de la distribución normal, comenzando con un par de números aleatorios."
      ],
      "metadata": {
        "id": "GGSCQomI2uZD"
      }
    },
    {
      "cell_type": "markdown",
      "source": [
        "**Método**\n",
        "\n",
        "Sean $U_1$,$U_2$ variables aleatorias independientes con la misma función de densidad rectangular en el intervalo (0,1). Considerese las variables aleatorias:\n",
        "\n",
        "$X_1=\\sqrt{-2ln(U_1)}\\cdot cos(2\\pi \\cdot U_2)$  (1)\n",
        "\n",
        "$X_2=\\sqrt{-2ln(U_1)}\\cdot sen(2\\pi\\cdot U_2)$   (1)\n",
        "\n",
        "1) $X_1$ y $X_2$ son v.a independientes con la misma distribución normal\n",
        "\n",
        "2) $\\mu$ (media) = cero y $\\sigma^2=1$"
      ],
      "metadata": {
        "id": "5IB6TIcn3M0B"
      }
    },
    {
      "cell_type": "markdown",
      "source": [
        "Las relaciones inversas:\n",
        "\n",
        "$U_1=e^{-\\frac{(X_1^2+X_2^2)}{2}}$\n",
        "\n",
        "$U_2=\\frac{1}{2\\pi}arctan(\\frac{X_2}{X_1})$"
      ],
      "metadata": {
        "id": "PJjiWmfj7lHf"
      }
    },
    {
      "cell_type": "markdown",
      "source": [
        "**Densidad conjunta**\n",
        "\n",
        "$f(X_1,X_2)=\\frac{1}{2\\pi}e^{-\\frac{(X_1^2+X_2^2)}{2}}=\\frac{1}{2\\pi}e^{\\frac{X_1^2}{2}}\\cdot \\frac{1}{2\\pi}e^{-\\frac{X_2^2}{2}}=f(X_1)f(X_2)$\n",
        "\n",
        "concluye que hay independencia de X_1 Y X_2"
      ],
      "metadata": {
        "id": "saXuPd3E8GWY"
      }
    },
    {
      "cell_type": "markdown",
      "source": [
        "Enofoque anterior tiene las siguientes consideraciones:\n",
        "\n",
        "1) $f(X_1,X_2)$ es un constante en círculos\n",
        "$⇒Θ=arctan(\\frac{X_2}{X_1})$ se distribuye uniformemente en $(0,2\\pi)$\n",
        "\n",
        "2) Cuadrado de la longitud del vector $R^2=X_1^2+X_2^2$ tiene una distribución cuadrada con dos grados de libertad"
      ],
      "metadata": {
        "id": "AWyrMkvt8_Fl"
      }
    },
    {
      "cell_type": "markdown",
      "source": [
        "Si U tiene una densidad rectangular en (0,1) entonces $\\sqrt{-2ln(U)}$ tiene una distribución cuadrada con dos grados de libertad. Procediendo en orden inverso llegamos a (1)"
      ],
      "metadata": {
        "id": "Es2sYJi_97Fg"
      }
    },
    {
      "cell_type": "markdown",
      "source": [
        "Para llegar a la última fórmula, sustituimos en $R=\\sqrt{X_1^2+X_2^2}$ las fórmulas de (1)\n",
        "\n",
        "$X_1^2=-2ln(U_1)\\cdot cos^2(2\\pi U_2)$\n",
        "\n",
        "$X_2^2=-2ln(U_1)\\cdot sen^2(2\\pi U_2)$\n",
        "\n",
        "$⇒ R=\\sqrt{-2ln(U_1)(cos^2(2\\pi U_2)+sen^2(2\\pi U_2))}$\n",
        "\n",
        "$\\therefore R=\\sqrt{-2ln(U_1)}$"
      ],
      "metadata": {
        "id": "Ml3m-R8PEuYO"
      }
    },
    {
      "cell_type": "markdown",
      "source": [
        "$Θ=2\\pi U_2$ sigue una distribución angular"
      ],
      "metadata": {
        "id": "YmJFWWU_HCdQ"
      }
    },
    {
      "cell_type": "markdown",
      "source": [
        "**Generaciones y variables aleatorias random**\n",
        "\n",
        "Distribución Chi-cuadrado con 2k grados de libertad pueden generarse sumando los k términos, $(\\sum_{i=1}^k (-2 \\log_e U_i)$.\n",
        "\n",
        "Para Chi-cuadrado con 2k + 1 grados de libertad, puede agregarse el cuadrado de una desviación normal generada por el método anterior.\n",
        "\n",
        "A partir de desviaciones normales aleatorias independientes, pueden utilizarse métodos conocidos para generar desviaciones normales \\(n\\)-dimensionales con medias arbitrarias y matriz de varianza-covarianza."
      ],
      "metadata": {
        "id": "LVIc2giqH9TG"
      }
    },
    {
      "cell_type": "markdown",
      "source": [
        "**Conveniencia y precisión**\n",
        "\n",
        "El método sugerido aquí surgió del deseo de tener una forma de generar desviaciones normales que fuera confiable en las colas de la distribución."
      ],
      "metadata": {
        "id": "Sk24U0Hh8wjb"
      }
    },
    {
      "cell_type": "code",
      "execution_count": 1,
      "metadata": {
        "id": "HbmR_4aZAj25"
      },
      "outputs": [],
      "source": [
        "#Librerías\n",
        "import random as rd\n",
        "import numpy as np\n",
        "import matplotlib.pyplot as plt"
      ]
    },
    {
      "cell_type": "code",
      "source": [
        "def iteraciones(n):\n",
        "  lista=[]\n",
        "  for i in range(n):\n",
        "    U1=rd.random()\n",
        "    U2=rd.random()\n",
        "    R=np.sqrt(-2*np.log(U1))\n",
        "    theta=2*np.pi*U2\n",
        "    x=R*np.cos(theta)\n",
        "    y=R*np.sin(theta)\n",
        "    lista.append(x)\n",
        "  return lista"
      ],
      "metadata": {
        "id": "kIUqJICsCVk8"
      },
      "execution_count": 2,
      "outputs": []
    },
    {
      "cell_type": "code",
      "source": [
        "l=iteraciones(10000)"
      ],
      "metadata": {
        "id": "IR5Bh1otDXNW"
      },
      "execution_count": 3,
      "outputs": []
    },
    {
      "cell_type": "code",
      "source": [
        "plt.hist(l,bins=100)\n",
        "plt.show()"
      ],
      "metadata": {
        "colab": {
          "base_uri": "https://localhost:8080/",
          "height": 275
        },
        "id": "RSplFPAFDbdx",
        "outputId": "48ca9562-b2a5-423f-fe7a-9891daf1121e"
      },
      "execution_count": 4,
      "outputs": [
        {
          "output_type": "display_data",
          "data": {
            "text/plain": [
              "<Figure size 640x480 with 1 Axes>"
            ],
            "image/png": "[encoded data removed]"
          },
          "metadata": {}
        }
      ]
    },
    {
      "cell_type": "code",
      "source": [
        "#Calculamos la media y la desviación de nuestro experimento\n",
        "print(\"La media es: \", np.mean(l))\n",
        "print(\"La desviación: \",np.std(l))"
      ],
      "metadata": {
        "colab": {
          "base_uri": "https://localhost:8080/"
        },
        "id": "Mq-jQzifIUGv",
        "outputId": "e314d3d1-a99f-4426-e273-cffac1438801"
      },
      "execution_count": 5,
      "outputs": [
        {
          "output_type": "stream",
          "name": "stdout",
          "text": [
            "La media es:  0.003397018885318108\n",
            "La desviación:  1.0104745114497917\n"
          ]
        }
      ]
    },
    {
      "cell_type": "markdown",
      "source": [
        "$\\mu$ (media) = cero y $\\sigma^2=1$"
      ],
      "metadata": {
        "id": "R-2xf3LU9S7c"
      }
    }
  ]
}